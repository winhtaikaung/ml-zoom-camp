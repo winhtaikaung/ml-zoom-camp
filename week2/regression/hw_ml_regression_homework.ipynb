{
 "cells": [
  {
   "cell_type": "markdown",
   "id": "e06495d8-79b6-4310-ab3a-49149924f646",
   "metadata": {},
   "source": [
    "# Exploratory Data Analysis"
   ]
  },
  {
   "cell_type": "code",
   "execution_count": 2,
   "id": "1b44c0bc-e072-4a48-9c21-2875f62e3c1d",
   "metadata": {},
   "outputs": [],
   "source": [
    "import pandas as pd\n",
    "import numpy as np"
   ]
  },
  {
   "cell_type": "code",
   "execution_count": 3,
   "id": "bdf1d78c-81e0-4af7-9723-93d747a08e56",
   "metadata": {},
   "outputs": [],
   "source": [
    "df = pd.read_csv('boston.csv')"
   ]
  },
  {
   "cell_type": "code",
   "execution_count": 6,
   "id": "acb14b2b-b029-4091-a00e-76e1bcae8a6f",
   "metadata": {},
   "outputs": [],
   "source": [
    "df.columns = df.columns.str.lower()"
   ]
  },
  {
   "cell_type": "code",
   "execution_count": 20,
   "id": "80611201-d175-446d-8b09-a27a9bec9875",
   "metadata": {},
   "outputs": [
    {
     "data": {
      "text/plain": [
       "crim       float64\n",
       "zn         float64\n",
       "indus      float64\n",
       "chas         int64\n",
       "nox        float64\n",
       "rm         float64\n",
       "age        float64\n",
       "dis        float64\n",
       "rad          int64\n",
       "tax        float64\n",
       "ptratio    float64\n",
       "b          float64\n",
       "lstat      float64\n",
       "medv       float64\n",
       "dtype: object"
      ]
     },
     "execution_count": 20,
     "metadata": {},
     "output_type": "execute_result"
    }
   ],
   "source": [
    "df.dtypes"
   ]
  },
  {
   "cell_type": "markdown",
   "id": "1ae2ac5c-4b1f-45b5-9ae5-a325402bcda5",
   "metadata": {},
   "source": [
    "# Find Unique datas"
   ]
  },
  {
   "cell_type": "code",
   "execution_count": 27,
   "id": "3fe23b2e-e7a8-4350-86d5-6aa56dd7df94",
   "metadata": {},
   "outputs": [
    {
     "name": "stdout",
     "output_type": "stream",
     "text": [
      "crim\n",
      "[0.00632 0.02731 0.02729 0.03237 0.06905]\n",
      "\n",
      "\n",
      "zn\n",
      "[18.   0.  12.5 75.  21. ]\n",
      "\n",
      "\n",
      "indus\n",
      "[2.31 7.07 2.18 7.87 8.14]\n",
      "\n",
      "\n",
      "chas\n",
      "[0 1]\n",
      "\n",
      "\n",
      "nox\n",
      "[0.538 0.469 0.458 0.524 0.499]\n",
      "\n",
      "\n",
      "rm\n",
      "[6.575 6.421 7.185 6.998 7.147]\n",
      "\n",
      "\n",
      "age\n",
      "[65.2 78.9 61.1 45.8 54.2]\n",
      "\n",
      "\n",
      "dis\n",
      "[4.09   4.9671 6.0622 5.5605 5.9505]\n",
      "\n",
      "\n",
      "rad\n",
      "[1 2 3 5 4]\n",
      "\n",
      "\n",
      "tax\n",
      "[296. 242. 222. 311. 307.]\n",
      "\n",
      "\n",
      "ptratio\n",
      "[15.3 17.8 18.7 15.2 21. ]\n",
      "\n",
      "\n",
      "b\n",
      "[396.9  392.83 394.63 394.12 395.6 ]\n",
      "\n",
      "\n",
      "lstat\n",
      "[4.98 9.14 4.03 2.94 5.33]\n",
      "\n",
      "\n",
      "medv\n",
      "[24.  21.6 34.7 33.4 36.2]\n",
      "\n",
      "\n"
     ]
    }
   ],
   "source": [
    "for col in df.columns:\n",
    "    print(col)\n",
    "    print(df[col].unique()[:5])\n",
    "    print(\"\\n\")"
   ]
  },
  {
   "cell_type": "markdown",
   "id": "ac51f508-3546-48e0-ad46-54fb1724d2db",
   "metadata": {},
   "source": [
    "### Medv  Column (This is the median value of owner-occupied homes in $1000s and is often the target variable in regression problems.) ကို သုံးပြီးရှာကြမယ် "
   ]
  },
  {
   "cell_type": "markdown",
   "id": "9dd423d2-4728-48dc-9b1e-d3aeecdc202b",
   "metadata": {},
   "source": [
    "# Distribution of MedV"
   ]
  },
  {
   "cell_type": "code",
   "execution_count": 25,
   "id": "f101a11b-08cc-4c55-879a-10be83cc77b3",
   "metadata": {},
   "outputs": [],
   "source": [
    "import matplotlib.pyplot as plt\n",
    "import seaborn as sns\n",
    "\n",
    "%matplotlib inline"
   ]
  },
  {
   "cell_type": "code",
   "execution_count": 39,
   "id": "52711604-5eeb-4ab4-bc64-d775065624a3",
   "metadata": {},
   "outputs": [
    {
     "data": {
      "text/plain": [
       "<Axes: xlabel='medv', ylabel='Count'>"
      ]
     },
     "execution_count": 39,
     "metadata": {},
     "output_type": "execute_result"
    },
    {
     "data": {
      "image/png": "[encoded data removed]",
      "text/plain": [
       "<Figure size 640x480 with 1 Axes>"
      ]
     },
     "metadata": {},
     "output_type": "display_data"
    }
   ],
   "source": [
    "sns.histplot(df.medv,bins=50)"
   ]
  },
  {
   "cell_type": "code",
   "execution_count": 36,
   "id": "dbaa3e8f-1115-4cd2-94a1-a02c0751acbc",
   "metadata": {},
   "outputs": [
    {
     "data": {
      "text/plain": [
       "0      3.218876\n",
       "1      3.117950\n",
       "2      3.575151\n",
       "3      3.538057\n",
       "4      3.616309\n",
       "         ...   \n",
       "501    3.152736\n",
       "502    3.072693\n",
       "503    3.214868\n",
       "504    3.135494\n",
       "505    2.557227\n",
       "Name: medv, Length: 506, dtype: float64"
      ]
     },
     "execution_count": 36,
     "metadata": {},
     "output_type": "execute_result"
    }
   ],
   "source": [
    "medv_log = np.log1p(df.medv)\n",
    "medv_log"
   ]
  },
  {
   "cell_type": "code",
   "execution_count": 37,
   "id": "074c07c8-f76b-479b-a395-e0a762b57646",
   "metadata": {},
   "outputs": [
    {
     "data": {
      "text/plain": [
       "crim       0\n",
       "zn         0\n",
       "indus      0\n",
       "chas       0\n",
       "nox        0\n",
       "rm         0\n",
       "age        0\n",
       "dis        0\n",
       "rad        0\n",
       "tax        0\n",
       "ptratio    0\n",
       "b          0\n",
       "lstat      0\n",
       "medv       0\n",
       "dtype: int64"
      ]
     },
     "execution_count": 37,
     "metadata": {},
     "output_type": "execute_result"
    }
   ],
   "source": [
    "df.isnull().sum()"
   ]
  },
  {
   "cell_type": "markdown",
   "id": "34a0ff87-b322-4735-9241-99ab7e2bd903",
   "metadata": {},
   "source": [
    "## Preparing the data set for training & testing & validation"
   ]
  },
  {
   "cell_type": "code",
   "execution_count": 46,
   "id": "ec175308-9683-40cb-a9ed-ba54551dc799",
   "metadata": {},
   "outputs": [
    {
     "data": {
      "text/plain": [
       "(101, 101, 304)"
      ]
     },
     "execution_count": 46,
     "metadata": {},
     "output_type": "execute_result"
    }
   ],
   "source": [
    "n = len(df)\n",
    "val_n = int(n * 0.2)\n",
    "test_n = int(n*0.2)\n",
    "train_n = n - val_n -test_n\n",
    "test_n,val_n,train_n"
   ]
  },
  {
   "cell_type": "code",
   "execution_count": 64,
   "id": "9e6dfc72-ad76-4609-86cd-2332d68e85c1",
   "metadata": {},
   "outputs": [
    {
     "data": {
      "text/plain": [
       "(304, 101, 101)"
      ]
     },
     "execution_count": 64,
     "metadata": {},
     "output_type": "execute_result"
    }
   ],
   "source": [
    "df_train = df.iloc[:train_n]\n",
    "df_val = df.iloc[train_n:train_n+val_n]\n",
    "df_test = df.iloc[train_n+val_n:]\n",
    "len(df_train) , len(df_val) , len(df_test)"
   ]
  },
  {
   "cell_type": "markdown",
   "id": "f38bce41-91b2-4e2e-aa85-b33f677d312d",
   "metadata": {},
   "source": [
    "## Shuffling Dataset"
   ]
  },
  {
   "cell_type": "code",
   "execution_count": 56,
   "id": "d5f9b1fe-e259-47df-a2c5-87e589a2228c",
   "metadata": {},
   "outputs": [
    {
     "data": {
      "text/html": [
       "<div>\n",
       "<style scoped>\n",
       "    .dataframe tbody tr th:only-of-type {\n",
       "        vertical-align: middle;\n",
       "    }\n",
       "\n",
       "    .dataframe tbody tr th {\n",
       "        vertical-align: top;\n",
       "    }\n",
       "\n",
       "    .dataframe thead th {\n",
       "        text-align: right;\n",
       "    }\n",
       "</style>\n",
       "<table border=\"1\" class=\"dataframe\">\n",
       "  <thead>\n",
       "    <tr style=\"text-align: right;\">\n",
       "      <th></th>\n",
       "      <th>crim</th>\n",
       "      <th>zn</th>\n",
       "      <th>indus</th>\n",
       "      <th>chas</th>\n",
       "      <th>nox</th>\n",
       "      <th>rm</th>\n",
       "      <th>age</th>\n",
       "      <th>dis</th>\n",
       "      <th>rad</th>\n",
       "      <th>tax</th>\n",
       "      <th>ptratio</th>\n",
       "      <th>b</th>\n",
       "      <th>lstat</th>\n",
       "      <th>medv</th>\n",
       "    </tr>\n",
       "  </thead>\n",
       "  <tbody>\n",
       "    <tr>\n",
       "      <th>1</th>\n",
       "      <td>0.02731</td>\n",
       "      <td>0.0</td>\n",
       "      <td>7.07</td>\n",
       "      <td>0</td>\n",
       "      <td>0.469</td>\n",
       "      <td>6.421</td>\n",
       "      <td>78.9</td>\n",
       "      <td>4.9671</td>\n",
       "      <td>2</td>\n",
       "      <td>242.0</td>\n",
       "      <td>17.8</td>\n",
       "      <td>396.90</td>\n",
       "      <td>9.14</td>\n",
       "      <td>21.6</td>\n",
       "    </tr>\n",
       "    <tr>\n",
       "      <th>5</th>\n",
       "      <td>0.02985</td>\n",
       "      <td>0.0</td>\n",
       "      <td>2.18</td>\n",
       "      <td>0</td>\n",
       "      <td>0.458</td>\n",
       "      <td>6.430</td>\n",
       "      <td>58.7</td>\n",
       "      <td>6.0622</td>\n",
       "      <td>3</td>\n",
       "      <td>222.0</td>\n",
       "      <td>18.7</td>\n",
       "      <td>394.12</td>\n",
       "      <td>5.21</td>\n",
       "      <td>28.7</td>\n",
       "    </tr>\n",
       "    <tr>\n",
       "      <th>9</th>\n",
       "      <td>0.17004</td>\n",
       "      <td>12.5</td>\n",
       "      <td>7.87</td>\n",
       "      <td>0</td>\n",
       "      <td>0.524</td>\n",
       "      <td>6.004</td>\n",
       "      <td>85.9</td>\n",
       "      <td>6.5921</td>\n",
       "      <td>5</td>\n",
       "      <td>311.0</td>\n",
       "      <td>15.2</td>\n",
       "      <td>386.71</td>\n",
       "      <td>17.10</td>\n",
       "      <td>18.9</td>\n",
       "    </tr>\n",
       "    <tr>\n",
       "      <th>10</th>\n",
       "      <td>0.22489</td>\n",
       "      <td>12.5</td>\n",
       "      <td>7.87</td>\n",
       "      <td>0</td>\n",
       "      <td>0.524</td>\n",
       "      <td>6.377</td>\n",
       "      <td>94.3</td>\n",
       "      <td>6.3467</td>\n",
       "      <td>5</td>\n",
       "      <td>311.0</td>\n",
       "      <td>15.2</td>\n",
       "      <td>392.52</td>\n",
       "      <td>20.45</td>\n",
       "      <td>15.0</td>\n",
       "    </tr>\n",
       "  </tbody>\n",
       "</table>\n",
       "</div>"
      ],
      "text/plain": [
       "       crim    zn  indus  chas    nox     rm   age     dis  rad    tax   \n",
       "1   0.02731   0.0   7.07     0  0.469  6.421  78.9  4.9671    2  242.0  \\\n",
       "5   0.02985   0.0   2.18     0  0.458  6.430  58.7  6.0622    3  222.0   \n",
       "9   0.17004  12.5   7.87     0  0.524  6.004  85.9  6.5921    5  311.0   \n",
       "10  0.22489  12.5   7.87     0  0.524  6.377  94.3  6.3467    5  311.0   \n",
       "\n",
       "    ptratio       b  lstat  medv  \n",
       "1      17.8  396.90   9.14  21.6  \n",
       "5      18.7  394.12   5.21  28.7  \n",
       "9      15.2  386.71  17.10  18.9  \n",
       "10     15.2  392.52  20.45  15.0  "
      ]
     },
     "execution_count": 56,
     "metadata": {},
     "output_type": "execute_result"
    }
   ],
   "source": [
    "idx = np.arange(n)\n",
    "df.iloc[1]\n",
    "np.random.seed(2)\n",
    "np.random.shuffle(idx)\n",
    "df.iloc[[1,5,9,10]]"
   ]
  },
  {
   "cell_type": "code",
   "execution_count": 72,
   "id": "53906a43-901a-4727-b2a6-426303201911",
   "metadata": {},
   "outputs": [
    {
     "data": {
      "text/html": [
       "<div>\n",
       "<style scoped>\n",
       "    .dataframe tbody tr th:only-of-type {\n",
       "        vertical-align: middle;\n",
       "    }\n",
       "\n",
       "    .dataframe tbody tr th {\n",
       "        vertical-align: top;\n",
       "    }\n",
       "\n",
       "    .dataframe thead th {\n",
       "        text-align: right;\n",
       "    }\n",
       "</style>\n",
       "<table border=\"1\" class=\"dataframe\">\n",
       "  <thead>\n",
       "    <tr style=\"text-align: right;\">\n",
       "      <th></th>\n",
       "      <th>crim</th>\n",
       "      <th>zn</th>\n",
       "      <th>indus</th>\n",
       "      <th>chas</th>\n",
       "      <th>nox</th>\n",
       "      <th>rm</th>\n",
       "      <th>age</th>\n",
       "      <th>dis</th>\n",
       "      <th>rad</th>\n",
       "      <th>tax</th>\n",
       "      <th>ptratio</th>\n",
       "      <th>b</th>\n",
       "      <th>lstat</th>\n",
       "      <th>medv</th>\n",
       "    </tr>\n",
       "  </thead>\n",
       "  <tbody>\n",
       "    <tr>\n",
       "      <th>463</th>\n",
       "      <td>5.82115</td>\n",
       "      <td>0.0</td>\n",
       "      <td>18.10</td>\n",
       "      <td>0</td>\n",
       "      <td>0.713</td>\n",
       "      <td>6.513</td>\n",
       "      <td>89.9</td>\n",
       "      <td>2.8016</td>\n",
       "      <td>24</td>\n",
       "      <td>666.0</td>\n",
       "      <td>20.2</td>\n",
       "      <td>393.82</td>\n",
       "      <td>10.29</td>\n",
       "      <td>20.2</td>\n",
       "    </tr>\n",
       "    <tr>\n",
       "      <th>152</th>\n",
       "      <td>1.12658</td>\n",
       "      <td>0.0</td>\n",
       "      <td>19.58</td>\n",
       "      <td>1</td>\n",
       "      <td>0.871</td>\n",
       "      <td>5.012</td>\n",
       "      <td>88.0</td>\n",
       "      <td>1.6102</td>\n",
       "      <td>5</td>\n",
       "      <td>403.0</td>\n",
       "      <td>14.7</td>\n",
       "      <td>343.28</td>\n",
       "      <td>12.12</td>\n",
       "      <td>15.3</td>\n",
       "    </tr>\n",
       "    <tr>\n",
       "      <th>291</th>\n",
       "      <td>0.07886</td>\n",
       "      <td>80.0</td>\n",
       "      <td>4.95</td>\n",
       "      <td>0</td>\n",
       "      <td>0.411</td>\n",
       "      <td>7.148</td>\n",
       "      <td>27.7</td>\n",
       "      <td>5.1167</td>\n",
       "      <td>4</td>\n",
       "      <td>245.0</td>\n",
       "      <td>19.2</td>\n",
       "      <td>396.90</td>\n",
       "      <td>3.56</td>\n",
       "      <td>37.3</td>\n",
       "    </tr>\n",
       "    <tr>\n",
       "      <th>183</th>\n",
       "      <td>0.10008</td>\n",
       "      <td>0.0</td>\n",
       "      <td>2.46</td>\n",
       "      <td>0</td>\n",
       "      <td>0.488</td>\n",
       "      <td>6.563</td>\n",
       "      <td>95.6</td>\n",
       "      <td>2.8470</td>\n",
       "      <td>3</td>\n",
       "      <td>193.0</td>\n",
       "      <td>17.8</td>\n",
       "      <td>396.90</td>\n",
       "      <td>5.68</td>\n",
       "      <td>32.5</td>\n",
       "    </tr>\n",
       "    <tr>\n",
       "      <th>384</th>\n",
       "      <td>20.08490</td>\n",
       "      <td>0.0</td>\n",
       "      <td>18.10</td>\n",
       "      <td>0</td>\n",
       "      <td>0.700</td>\n",
       "      <td>4.368</td>\n",
       "      <td>91.2</td>\n",
       "      <td>1.4395</td>\n",
       "      <td>24</td>\n",
       "      <td>666.0</td>\n",
       "      <td>20.2</td>\n",
       "      <td>285.83</td>\n",
       "      <td>30.63</td>\n",
       "      <td>8.8</td>\n",
       "    </tr>\n",
       "  </tbody>\n",
       "</table>\n",
       "</div>"
      ],
      "text/plain": [
       "         crim    zn  indus  chas    nox     rm   age     dis  rad    tax   \n",
       "463   5.82115   0.0  18.10     0  0.713  6.513  89.9  2.8016   24  666.0  \\\n",
       "152   1.12658   0.0  19.58     1  0.871  5.012  88.0  1.6102    5  403.0   \n",
       "291   0.07886  80.0   4.95     0  0.411  7.148  27.7  5.1167    4  245.0   \n",
       "183   0.10008   0.0   2.46     0  0.488  6.563  95.6  2.8470    3  193.0   \n",
       "384  20.08490   0.0  18.10     0  0.700  4.368  91.2  1.4395   24  666.0   \n",
       "\n",
       "     ptratio       b  lstat  medv  \n",
       "463     20.2  393.82  10.29  20.2  \n",
       "152     14.7  343.28  12.12  15.3  \n",
       "291     19.2  396.90   3.56  37.3  \n",
       "183     17.8  396.90   5.68  32.5  \n",
       "384     20.2  285.83  30.63   8.8  "
      ]
     },
     "execution_count": 72,
     "metadata": {},
     "output_type": "execute_result"
    }
   ],
   "source": [
    "df_train = df.iloc[idx[:train_n]]\n",
    "df_train.reset_index(drop=True)\n",
    "\n",
    "df_val = df.iloc[idx[train_n:train_n+ val_n]]\n",
    "df_val.reset_index(drop=True)\n",
    "\n",
    "df_test = df.iloc[idx[train_n+val_n:]]\n",
    "df_test.reset_index(drop=True)\n",
    "df_train.head()"
   ]
  },
  {
   "cell_type": "code",
   "execution_count": 79,
   "id": "775b8e67-d823-462b-8caf-246b95c64414",
   "metadata": {},
   "outputs": [],
   "source": [
    "y_train=np.log1p(df_train.medv.values)\n",
    "y_val=np.log1p(df_val.medv.values)\n",
    "y_test = np.log1p(df_test.medv.values)\n",
    "\n",
    "del df_train['medv']\n",
    "del df_val['medv']\n",
    "del df_test['medv']"
   ]
  },
  {
   "cell_type": "markdown",
   "id": "dc4973a8-2d17-4cf2-a0e1-ddaf897085e9",
   "metadata": {},
   "source": [
    "# Train Baseline Model"
   ]
  },
  {
   "cell_type": "code",
   "execution_count": 80,
   "id": "b41997e1-84b0-4a67-92a1-f157379e4000",
   "metadata": {},
   "outputs": [
    {
     "data": {
      "text/plain": [
       "crim       float64\n",
       "zn         float64\n",
       "indus      float64\n",
       "chas         int64\n",
       "nox        float64\n",
       "rm         float64\n",
       "age        float64\n",
       "dis        float64\n",
       "rad          int64\n",
       "tax        float64\n",
       "ptratio    float64\n",
       "b          float64\n",
       "lstat      float64\n",
       "dtype: object"
      ]
     },
     "execution_count": 80,
     "metadata": {},
     "output_type": "execute_result"
    }
   ],
   "source": [
    "def train_linear_regression(X,y):\n",
    "    ones = np.ones(X.shape[0])\n",
    "    X = np.column_stack([ones,X])\n",
    "\n",
    "    # Normal Equation\n",
    "    XTX = X.T.dot(X)\n",
    "    XTX_inv = np.linalg.inv(XTX)\n",
    "    w_full = XTX_inv.dot(X.T).dot(y)\n",
    "    w0 = w_full[0]\n",
    "    w = w_full[1:]\n",
    "    \n",
    "    return w0,w\n",
    "\n",
    "df_train.dtypes"
   ]
  },
  {
   "cell_type": "code",
   "execution_count": 152,
   "id": "6f5effd0-117e-4a57-a712-00d382bf3f4d",
   "metadata": {},
   "outputs": [
    {
     "data": {
      "text/plain": [
       "(5.0107921662072785,\n",
       " array([-1.30527073e-02,  8.69162113e-04,  1.72826902e-02, -6.13895187e-02,\n",
       "        -6.84431327e-04,  1.62950903e-04, -3.77572292e-02, -3.33523238e-02,\n",
       "         6.10293457e-02,  2.10710867e-03, -1.03277174e+00,  1.85110945e-03]))"
      ]
     },
     "execution_count": 152,
     "metadata": {},
     "output_type": "execute_result"
    }
   ],
   "source": [
    "base = ['crim','age','rad','dis','tax','b','ptratio','lstat','chas','zn','nox','indus']\n",
    "\n",
    "X_train = df_train[base].fillna(0).values\n",
    "X_train\n",
    "w0,w = train_linear_regression(X_train,y_train)\n",
    "y_pred = w0 + X_train.dot(w)\n",
    "w0,w"
   ]
  },
  {
   "cell_type": "code",
   "execution_count": 153,
   "id": "6a935160-0010-4515-b82f-1851e89814ae",
   "metadata": {},
   "outputs": [
    {
     "data": {
      "text/plain": [
       "<matplotlib.legend.Legend at 0x7f87d57b56c0>"
      ]
     },
     "execution_count": 153,
     "metadata": {},
     "output_type": "execute_result"
    },
    {
     "data": {
      "image/png": "[encoded data removed]",
      "text/plain": [
       "<Figure size 640x480 with 1 Axes>"
      ]
     },
     "metadata": {},
     "output_type": "display_data"
    }
   ],
   "source": [
    "sns.histplot(y_pred, color='red', label=\"prediction\", alpha=0.5, bins=50)\n",
    "sns.histplot(y_train, color='blue',label=\"target\", alpha=0.5, bins=50)\n",
    "plt.legend()"
   ]
  },
  {
   "cell_type": "code",
   "execution_count": 155,
   "id": "eb1bbac0-42d5-443b-8c16-973d8d329937",
   "metadata": {},
   "outputs": [
    {
     "data": {
      "text/plain": [
       "0.18697766449671416"
      ]
     },
     "execution_count": 155,
     "metadata": {},
     "output_type": "execute_result"
    }
   ],
   "source": [
    "def rmse(y, y_pred):\n",
    "    se = (y - y_pred) ** 2 # (RealData - Predict Data) square\n",
    "    mse = se.mean() # Mean ကိုရှာ\n",
    "    return np.sqrt(mse) # ရတဲ့ Mean ကို Square Root လုပ်\n",
    "    \n",
    "rmse(y_train,y_pred)"
   ]
  },
  {
   "cell_type": "markdown",
   "id": "567a5b8b-2c14-4c6e-a0c3-322bba4e2d3c",
   "metadata": {},
   "source": [
    "# Utilizing Model"
   ]
  },
  {
   "cell_type": "code",
   "execution_count": 162,
   "id": "3b9df877-6044-427c-a095-61c2610567c8",
   "metadata": {},
   "outputs": [
    {
     "data": {
      "text/plain": [
       "(4.875545482054168,\n",
       " array([-1.08420658e-02,  9.56270844e-04,  1.52243343e-02, -5.54993013e-02,\n",
       "        -6.23407178e-04,  2.84303435e-04, -3.90903426e-02, -3.24263504e-02,\n",
       "         9.50160526e-02,  1.87402752e-03, -9.14497871e-01,  1.75913584e-03]))"
      ]
     },
     "execution_count": 162,
     "metadata": {},
     "output_type": "execute_result"
    }
   ],
   "source": [
    "df_full_train = pd.concat([df_train, df_val])\n",
    "df_full_train = df_full_train.reset_index(drop=True)\n",
    "X_full_train = df_full_train[base].fillna(0).values\n",
    "X_full_train\n",
    "y_full_train = np.concatenate([y_train, y_val])\n",
    "\n",
    "w0,w = train_linear_regression(X_full_train,y_full_train)\n",
    "w0,w"
   ]
  },
  {
   "cell_type": "code",
   "execution_count": 164,
   "id": "271f9683-4635-464a-a5fa-ac96c42f4490",
   "metadata": {},
   "outputs": [
    {
     "data": {
      "text/plain": [
       "0.1729207285459242"
      ]
     },
     "execution_count": 164,
     "metadata": {},
     "output_type": "execute_result"
    }
   ],
   "source": [
    "X_test = df_test[base].fillna(0).values\n",
    "y_pred = w0+X_test.dot(w)\n",
    "rmse(y_test,y_pred)"
   ]
  },
  {
   "cell_type": "code",
   "execution_count": 174,
   "id": "cf851ceb-8396-446e-8974-78e397ae6e3e",
   "metadata": {},
   "outputs": [
    {
     "data": {
      "text/html": [
       "<div>\n",
       "<style scoped>\n",
       "    .dataframe tbody tr th:only-of-type {\n",
       "        vertical-align: middle;\n",
       "    }\n",
       "\n",
       "    .dataframe tbody tr th {\n",
       "        vertical-align: top;\n",
       "    }\n",
       "\n",
       "    .dataframe thead th {\n",
       "        text-align: right;\n",
       "    }\n",
       "</style>\n",
       "<table border=\"1\" class=\"dataframe\">\n",
       "  <thead>\n",
       "    <tr style=\"text-align: right;\">\n",
       "      <th></th>\n",
       "      <th>crim</th>\n",
       "      <th>zn</th>\n",
       "      <th>indus</th>\n",
       "      <th>chas</th>\n",
       "      <th>nox</th>\n",
       "      <th>rm</th>\n",
       "      <th>age</th>\n",
       "      <th>dis</th>\n",
       "      <th>rad</th>\n",
       "      <th>tax</th>\n",
       "      <th>ptratio</th>\n",
       "      <th>b</th>\n",
       "      <th>lstat</th>\n",
       "    </tr>\n",
       "  </thead>\n",
       "  <tbody>\n",
       "    <tr>\n",
       "      <th>0</th>\n",
       "      <td>0.02055</td>\n",
       "      <td>85.0</td>\n",
       "      <td>0.74</td>\n",
       "      <td>0.0</td>\n",
       "      <td>0.41</td>\n",
       "      <td>6.383</td>\n",
       "      <td>35.7</td>\n",
       "      <td>9.1876</td>\n",
       "      <td>2.0</td>\n",
       "      <td>313.0</td>\n",
       "      <td>17.3</td>\n",
       "      <td>396.9</td>\n",
       "      <td>5.77</td>\n",
       "    </tr>\n",
       "  </tbody>\n",
       "</table>\n",
       "</div>"
      ],
      "text/plain": [
       "      crim    zn  indus  chas   nox     rm   age     dis  rad    tax  ptratio   \n",
       "0  0.02055  85.0   0.74   0.0  0.41  6.383  35.7  9.1876  2.0  313.0     17.3  \\\n",
       "\n",
       "       b  lstat  \n",
       "0  396.9   5.77  "
      ]
     },
     "execution_count": 174,
     "metadata": {},
     "output_type": "execute_result"
    }
   ],
   "source": [
    "house = df_test.iloc[10].to_dict()\n",
    "df_small = pd.DataFrame([house])\n",
    "df_small"
   ]
  },
  {
   "cell_type": "code",
   "execution_count": 175,
   "id": "23471307-f1f2-4cc6-a997-56e55aa807a2",
   "metadata": {},
   "outputs": [
    {
     "data": {
      "text/plain": [
       "3.270005425675849"
      ]
     },
     "execution_count": 175,
     "metadata": {},
     "output_type": "execute_result"
    }
   ],
   "source": [
    "X_small = df_small[base].fillna(0).values\n",
    "y_pred = w0 + X_small.dot(w)\n",
    "y_pred[0]"
   ]
  },
  {
   "cell_type": "code",
   "execution_count": 176,
   "id": "b83f8813-8327-4411-92be-4411145dc709",
   "metadata": {},
   "outputs": [
    {
     "data": {
      "text/plain": [
       "25.3114821004516"
      ]
     },
     "execution_count": 176,
     "metadata": {},
     "output_type": "execute_result"
    }
   ],
   "source": [
    "np.expm1(y_pred[0]) #predicted value of mdev"
   ]
  },
  {
   "cell_type": "code",
   "execution_count": null,
   "id": "e2373986-b413-4871-830d-f4faf4f872ce",
   "metadata": {},
   "outputs": [],
   "source": []
  }
 ],
 "metadata": {
  "kernelspec": {
   "display_name": "Python 3 (ipykernel)",
   "language": "python",
   "name": "python3"
  },
  "language_info": {
   "codemirror_mode": {
    "name": "ipython",
    "version": 3
   },
   "file_extension": ".py",
   "mimetype": "text/x-python",
   "name": "python",
   "nbconvert_exporter": "python",
   "pygments_lexer": "ipython3",
   "version": "3.10.11"
  }
 },
 "nbformat": 4,
 "nbformat_minor": 5
}
