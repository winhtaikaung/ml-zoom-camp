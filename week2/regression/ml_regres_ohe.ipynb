{
 "cells": [
  {
   "cell_type": "code",
   "execution_count": 411,
   "id": "a63a586c-30ca-42dd-967d-1cb506ee57bd",
   "metadata": {},
   "outputs": [],
   "source": [
    "import pandas as pd\n",
    "import numpy as np\n",
    "import matplotlib.pyplot as plt\n",
    "import seaborn as sns\n",
    "\n",
    "\n"
   ]
  },
  {
   "cell_type": "code",
   "execution_count": 580,
   "id": "4a378d8c-a9bf-4d38-9d22-92f925114fae",
   "metadata": {},
   "outputs": [],
   "source": [
    "df = pd.read_csv('lg_software_salary.csv')"
   ]
  },
  {
   "cell_type": "code",
   "execution_count": 581,
   "id": "31b808f6-e304-48cb-83c1-fc0abcb675cb",
   "metadata": {},
   "outputs": [
    {
     "data": {
      "text/html": [
       "<div>\n",
       "<style scoped>\n",
       "    .dataframe tbody tr th:only-of-type {\n",
       "        vertical-align: middle;\n",
       "    }\n",
       "\n",
       "    .dataframe tbody tr th {\n",
       "        vertical-align: top;\n",
       "    }\n",
       "\n",
       "    .dataframe thead th {\n",
       "        text-align: right;\n",
       "    }\n",
       "</style>\n",
       "<table border=\"1\" class=\"dataframe\">\n",
       "  <thead>\n",
       "    <tr style=\"text-align: right;\">\n",
       "      <th></th>\n",
       "      <th>Rating</th>\n",
       "      <th>Company Name</th>\n",
       "      <th>Job Title</th>\n",
       "      <th>Salary</th>\n",
       "      <th>Salaries Reported</th>\n",
       "      <th>Location</th>\n",
       "      <th>Employment Status</th>\n",
       "      <th>Job Roles</th>\n",
       "    </tr>\n",
       "  </thead>\n",
       "  <tbody>\n",
       "    <tr>\n",
       "      <th>0</th>\n",
       "      <td>3.8</td>\n",
       "      <td>Sasken</td>\n",
       "      <td>Android Developer</td>\n",
       "      <td>400000</td>\n",
       "      <td>3</td>\n",
       "      <td>Bangalore</td>\n",
       "      <td>Full Time</td>\n",
       "      <td>Android</td>\n",
       "    </tr>\n",
       "    <tr>\n",
       "      <th>1</th>\n",
       "      <td>4.5</td>\n",
       "      <td>Advanced Millennium Technologies</td>\n",
       "      <td>Android Developer</td>\n",
       "      <td>400000</td>\n",
       "      <td>3</td>\n",
       "      <td>Bangalore</td>\n",
       "      <td>Full Time</td>\n",
       "      <td>Android</td>\n",
       "    </tr>\n",
       "    <tr>\n",
       "      <th>2</th>\n",
       "      <td>4.0</td>\n",
       "      <td>Unacademy</td>\n",
       "      <td>Android Developer</td>\n",
       "      <td>1000000</td>\n",
       "      <td>3</td>\n",
       "      <td>Bangalore</td>\n",
       "      <td>Full Time</td>\n",
       "      <td>Android</td>\n",
       "    </tr>\n",
       "    <tr>\n",
       "      <th>3</th>\n",
       "      <td>3.8</td>\n",
       "      <td>SnapBizz Cloudtech</td>\n",
       "      <td>Android Developer</td>\n",
       "      <td>300000</td>\n",
       "      <td>3</td>\n",
       "      <td>Bangalore</td>\n",
       "      <td>Full Time</td>\n",
       "      <td>Android</td>\n",
       "    </tr>\n",
       "    <tr>\n",
       "      <th>4</th>\n",
       "      <td>4.4</td>\n",
       "      <td>Appoids Tech Solutions</td>\n",
       "      <td>Android Developer</td>\n",
       "      <td>600000</td>\n",
       "      <td>3</td>\n",
       "      <td>Bangalore</td>\n",
       "      <td>Full Time</td>\n",
       "      <td>Android</td>\n",
       "    </tr>\n",
       "  </tbody>\n",
       "</table>\n",
       "</div>"
      ],
      "text/plain": [
       "   Rating                      Company Name          Job Title   Salary  \\\n",
       "0     3.8                            Sasken  Android Developer   400000   \n",
       "1     4.5  Advanced Millennium Technologies  Android Developer   400000   \n",
       "2     4.0                         Unacademy  Android Developer  1000000   \n",
       "3     3.8                SnapBizz Cloudtech  Android Developer   300000   \n",
       "4     4.4            Appoids Tech Solutions  Android Developer   600000   \n",
       "\n",
       "   Salaries Reported   Location Employment Status Job Roles  \n",
       "0                  3  Bangalore         Full Time   Android  \n",
       "1                  3  Bangalore         Full Time   Android  \n",
       "2                  3  Bangalore         Full Time   Android  \n",
       "3                  3  Bangalore         Full Time   Android  \n",
       "4                  3  Bangalore         Full Time   Android  "
      ]
     },
     "execution_count": 581,
     "metadata": {},
     "output_type": "execute_result"
    }
   ],
   "source": [
    "df.head()"
   ]
  },
  {
   "cell_type": "code",
   "execution_count": 582,
   "id": "8ec58c1d-42f0-48b9-8c45-242bb6ab0e7a",
   "metadata": {},
   "outputs": [],
   "source": [
    "df.columns=df.columns.str.lower().str.replace(' ','_')"
   ]
  },
  {
   "cell_type": "code",
   "execution_count": 583,
   "id": "fbf1ab9a-7fbf-430e-a1f5-57f47f5be22f",
   "metadata": {},
   "outputs": [
    {
     "name": "stdout",
     "output_type": "stream",
     "text": [
      "41\n"
     ]
    }
   ],
   "source": [
    "df.head().T\n",
    "\n",
    "df[\"company_name\"].fillna(\"ffill\",inplace = True)\n",
    "\n",
    "cols = list(df.dtypes[df.dtypes == 'object'].index)\n",
    "for col in cols:\n",
    "    df[col] = df[col].str.lower().str.replace(' ','_').str.replace('.','').str.replace('-','').str.replace(')','').str.replace('(','')\n",
    "\n",
    "# for col in df.columns:\n",
    "#     print(col)\n",
    "#     print(df[col].unique()[:5])\n",
    "#     print(\"\\n\")\n",
    "print(len(df['rating'].unique()))"
   ]
  },
  {
   "cell_type": "code",
   "execution_count": 584,
   "id": "3d27c657-1dd0-428d-8a83-33534890b415",
   "metadata": {},
   "outputs": [
    {
     "data": {
      "text/plain": [
       "(rating               0\n",
       " company_name         0\n",
       " job_title            0\n",
       " salary               0\n",
       " salaries_reported    0\n",
       " location             0\n",
       " employment_status    0\n",
       " job_roles            0\n",
       " dtype: int64,\n",
       " rating               float64\n",
       " company_name          object\n",
       " job_title             object\n",
       " salary                 int64\n",
       " salaries_reported      int64\n",
       " location              object\n",
       " employment_status     object\n",
       " job_roles             object\n",
       " dtype: object)"
      ]
     },
     "execution_count": 584,
     "metadata": {},
     "output_type": "execute_result"
    }
   ],
   "source": [
    "df.isnull().sum() , df.dtypes"
   ]
  },
  {
   "cell_type": "code",
   "execution_count": 585,
   "id": "1af4bfc2-74eb-4ab6-ad82-69cdadd29536",
   "metadata": {},
   "outputs": [
    {
     "data": {
      "text/plain": [
       "array(['mid-android', 'intern-android', 'contract-android', 'sr-android',\n",
       "       'junior-android', 'mid-backend', 'intern-backend',\n",
       "       'contract-backend', 'sr-backend', 'junior-backend', 'mid-database',\n",
       "       'contract-database', 'sr-database', 'intern-database',\n",
       "       'junior-database', 'mid-frontend', 'intern-frontend',\n",
       "       'contract-frontend', 'sr-frontend', 'junior-frontend', 'mid-ios',\n",
       "       'contract-ios', 'intern-ios', 'sr-ios', 'junior-ios', 'mid-java',\n",
       "       'intern-java', 'contract-java', 'sr-java', 'junior-java',\n",
       "       'mid-mobile', 'intern-mobile', 'contract-mobile', 'sr-mobile',\n",
       "       'mid-sde', 'mid-python', 'intern-python', 'contract-python',\n",
       "       'sr-python', 'junior-python', 'intern-sde', 'sr-sde',\n",
       "       'contract-sde', 'junior-sde', 'intern-web', 'mid-testing',\n",
       "       'contract-testing', 'intern-testing', 'sr-testing',\n",
       "       'junior-testing', 'mid-web', 'contract-web'], dtype=object)"
      ]
     },
     "execution_count": 585,
     "metadata": {},
     "output_type": "execute_result"
    }
   ],
   "source": [
    "df_copy = df.copy()\n",
    "df_copy['salary'] = np.log1p(df_copy.salary.values)\n",
    "\n",
    "\n",
    "# Distribution of Salary\n",
    "# sns.lmplot(x =\"rating\", y =\"salary\", data = df_copy, order = 2, ci = None)\n",
    "\n",
    "df_copy.shape\n",
    "\n",
    "df_copy.dropna(inplace = True)\n",
    "df_copy.head()\n",
    "\n",
    "# df_copy['title_seniority'] = df_copy.job_roles.values\n",
    "title_seniority = [\"\"] * len(df_copy)\n",
    "# Define percentage categories and labels\n",
    "for (idx,val) in enumerate(df_copy.job_title.values):\n",
    "    if 'senior' in df_copy.job_title[idx].lower() or 'sr' in df_copy.job_title[idx].lower():\n",
    "        title_seniority[idx] = \"sr-{}\".format(df.job_roles[idx])\n",
    "    elif 'lead' in df_copy.job_title[idx].lower() or 'lead' in df_copy.job_title[idx].lower():\n",
    "        title_seniority[idx] = \"contract-{}\".format(df.job_roles[idx])\n",
    "    elif 'contractor' in df_copy.job_title[idx].lower() or 'contract' in df_copy.job_title[idx].lower():\n",
    "        title_seniority[idx] = \"contract-{}\".format(df.job_roles[idx])\n",
    "    elif 'junior' in df_copy.job_title[idx].lower() or 'jr' in df_copy.job_title[idx].lower():\n",
    "       title_seniority[idx] = \"junior-{}\".format(df.job_roles[idx])\n",
    "    elif 'intern' in df_copy.job_title[idx].lower():\n",
    "        title_seniority[idx] = \"intern-{}\".format(df.job_roles[idx])\n",
    "    else:\n",
    "        title_seniority[idx] = \"mid-{}\".format(df.job_roles[idx])\n",
    "\n",
    "\n",
    "df_copy['seniority'] = title_seniority\n",
    "df_copy['seniority'].unique()"
   ]
  },
  {
   "cell_type": "code",
   "execution_count": 586,
   "id": "ee95c6cc-63a0-401f-aeec-99970f5a8b04",
   "metadata": {},
   "outputs": [],
   "source": [
    "from sklearn.preprocessing import OneHotEncoder\n",
    "from sklearn.compose import ColumnTransformer\n",
    "from sklearn.pipeline import Pipeline\n",
    "from sklearn.linear_model import LinearRegression\n",
    "\n",
    "X = df_copy.drop(['salary','company_name','job_title','salaries_reported'], axis=1)\n",
    "y = df_copy['salary']\n",
    "\n",
    "\n",
    "categorical_cols = ['location','seniority','employment_status','job_roles','seniority']\n",
    "\n",
    "# Create a transformer that applies one-hot encoding to categorical columns\n",
    "preprocessor = ColumnTransformer(\n",
    "    transformers=[\n",
    "        ('cat', OneHotEncoder(), categorical_cols)\n",
    "    ],\n",
    "    remainder='passthrough'\n",
    ")\n",
    "\n",
    "# Create a linear regression model\n",
    "model = LinearRegression()\n",
    "\n",
    "# Create a pipeline that first applies one-hot encoding and then fits the model\n",
    "pipeline = Pipeline([\n",
    "    ('preprocessor', preprocessor),\n",
    "    ('model', model)\n",
    "])\n"
   ]
  },
  {
   "cell_type": "markdown",
   "id": "4f315bda-7fbd-4244-8d98-ff019118ab49",
   "metadata": {},
   "source": [
    "# Setting up the validation framework"
   ]
  },
  {
   "cell_type": "code",
   "execution_count": 587,
   "id": "818c4506-6f33-489f-8345-cf232df57c23",
   "metadata": {},
   "outputs": [],
   "source": [
    "from sklearn.model_selection import train_test_split\n"
   ]
  },
  {
   "cell_type": "code",
   "execution_count": 594,
   "id": "0ed74727-5f15-4ef4-b2ea-546abe4f40fd",
   "metadata": {},
   "outputs": [
    {
     "data": {
      "text/plain": [
       "(16906, 5636, 228, 16906, 5636, 228)"
      ]
     },
     "execution_count": 594,
     "metadata": {},
     "output_type": "execute_result"
    }
   ],
   "source": [
    "df_full_train, df_test,y_full_train,y_test = train_test_split(X,y, test_size=0.01, random_state=300)\n",
    "df_train, df_val,y_train,y_val = train_test_split(df_full_train,y_full_train, test_size=0.25, random_state=300)\n",
    "len(df_train),len(df_val),len(df_test), len(y_train),len(y_val),len(y_test)\n",
    "\n"
   ]
  },
  {
   "cell_type": "code",
   "execution_count": 595,
   "id": "3742434e-1d76-4f39-981f-af84b7772b0b",
   "metadata": {},
   "outputs": [
    {
     "data": {
      "text/plain": [
       "0.29094874018738603"
      ]
     },
     "execution_count": 595,
     "metadata": {},
     "output_type": "execute_result"
    }
   ],
   "source": [
    "pipeline.fit(X, y)\n",
    "\n",
    "# Make predictions on the test data\n",
    "y_pred = pipeline.predict(df_test)\n",
    "pipeline.score(df_test,y_test)\n",
    "\n"
   ]
  },
  {
   "cell_type": "code",
   "execution_count": 596,
   "id": "5301fc1e-1c11-4c94-bd85-3845793c1e69",
   "metadata": {},
   "outputs": [
    {
     "data": {
      "text/plain": [
       "<Axes: xlabel='salary', ylabel='Count'>"
      ]
     },
     "execution_count": 596,
     "metadata": {},
     "output_type": "execute_result"
    },
    {
     "data": {
      "image/png": "[encoded data removed]",
      "text/plain": [
       "<Figure size 640x480 with 1 Axes>"
      ]
     },
     "metadata": {},
     "output_type": "display_data"
    }
   ],
   "source": [
    "sns.histplot(y_train, color='blue', alpha=0.5, bins=50)\n",
    "sns.histplot(y_pred, color='red', alpha=0.5, bins=50)"
   ]
  },
  {
   "cell_type": "code",
   "execution_count": null,
   "id": "99ad5125-ee57-44c6-a2ad-a1d96b960841",
   "metadata": {},
   "outputs": [],
   "source": []
  }
 ],
 "metadata": {
  "kernelspec": {
   "display_name": "Python 3 (ipykernel)",
   "language": "python",
   "name": "python3"
  },
  "language_info": {
   "codemirror_mode": {
    "name": "ipython",
    "version": 3
   },
   "file_extension": ".py",
   "mimetype": "text/x-python",
   "name": "python",
   "nbconvert_exporter": "python",
   "pygments_lexer": "ipython3",
   "version": "3.11.4"
  }
 },
 "nbformat": 4,
 "nbformat_minor": 5
}
