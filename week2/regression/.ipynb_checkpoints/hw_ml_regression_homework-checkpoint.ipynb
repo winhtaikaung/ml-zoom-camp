{
 "cells": [
  {
   "cell_type": "markdown",
   "id": "e06495d8-79b6-4310-ab3a-49149924f646",
   "metadata": {},
   "source": [
    "# Exploratory Data Analysis"
   ]
  },
  {
   "cell_type": "code",
   "execution_count": 2,
   "id": "1b44c0bc-e072-4a48-9c21-2875f62e3c1d",
   "metadata": {},
   "outputs": [],
   "source": [
    "import pandas as pd\n",
    "import numpy as np"
   ]
  },
  {
   "cell_type": "code",
   "execution_count": 3,
   "id": "bdf1d78c-81e0-4af7-9723-93d747a08e56",
   "metadata": {},
   "outputs": [],
   "source": [
    "df = pd.read_csv('boston.csv')"
   ]
  },
  {
   "cell_type": "code",
   "execution_count": 6,
   "id": "acb14b2b-b029-4091-a00e-76e1bcae8a6f",
   "metadata": {},
   "outputs": [],
   "source": [
    "df.columns = df.columns.str.lower()"
   ]
  },
  {
   "cell_type": "code",
   "execution_count": 20,
   "id": "80611201-d175-446d-8b09-a27a9bec9875",
   "metadata": {},
   "outputs": [
    {
     "data": {
      "text/plain": [
       "crim       float64\n",
       "zn         float64\n",
       "indus      float64\n",
       "chas         int64\n",
       "nox        float64\n",
       "rm         float64\n",
       "age        float64\n",
       "dis        float64\n",
       "rad          int64\n",
       "tax        float64\n",
       "ptratio    float64\n",
       "b          float64\n",
       "lstat      float64\n",
       "medv       float64\n",
       "dtype: object"
      ]
     },
     "execution_count": 20,
     "metadata": {},
     "output_type": "execute_result"
    }
   ],
   "source": [
    "df.dtypes"
   ]
  },
  {
   "cell_type": "markdown",
   "id": "1ae2ac5c-4b1f-45b5-9ae5-a325402bcda5",
   "metadata": {},
   "source": [
    "# Find Unique datas"
   ]
  },
  {
   "cell_type": "code",
   "execution_count": 27,
   "id": "3fe23b2e-e7a8-4350-86d5-6aa56dd7df94",
   "metadata": {},
   "outputs": [
    {
     "name": "stdout",
     "output_type": "stream",
     "text": [
      "crim\n",
      "[0.00632 0.02731 0.02729 0.03237 0.06905]\n",
      "\n",
      "\n",
      "zn\n",
      "[18.   0.  12.5 75.  21. ]\n",
      "\n",
      "\n",
      "indus\n",
      "[2.31 7.07 2.18 7.87 8.14]\n",
      "\n",
      "\n",
      "chas\n",
      "[0 1]\n",
      "\n",
      "\n",
      "nox\n",
      "[0.538 0.469 0.458 0.524 0.499]\n",
      "\n",
      "\n",
      "rm\n",
      "[6.575 6.421 7.185 6.998 7.147]\n",
      "\n",
      "\n",
      "age\n",
      "[65.2 78.9 61.1 45.8 54.2]\n",
      "\n",
      "\n",
      "dis\n",
      "[4.09   4.9671 6.0622 5.5605 5.9505]\n",
      "\n",
      "\n",
      "rad\n",
      "[1 2 3 5 4]\n",
      "\n",
      "\n",
      "tax\n",
      "[296. 242. 222. 311. 307.]\n",
      "\n",
      "\n",
      "ptratio\n",
      "[15.3 17.8 18.7 15.2 21. ]\n",
      "\n",
      "\n",
      "b\n",
      "[396.9  392.83 394.63 394.12 395.6 ]\n",
      "\n",
      "\n",
      "lstat\n",
      "[4.98 9.14 4.03 2.94 5.33]\n",
      "\n",
      "\n",
      "medv\n",
      "[24.  21.6 34.7 33.4 36.2]\n",
      "\n",
      "\n"
     ]
    }
   ],
   "source": [
    "for col in df.columns:\n",
    "    print(col)\n",
    "    print(df[col].unique()[:5])\n",
    "    print(\"\\n\")"
   ]
  },
  {
   "cell_type": "markdown",
   "id": "ac51f508-3546-48e0-ad46-54fb1724d2db",
   "metadata": {},
   "source": [
    "### Medv  Column (This is the median value of owner-occupied homes in $1000s and is often the target variable in regression problems.) ကို သုံးပြီးရှာကြမယ် "
   ]
  },
  {
   "cell_type": "markdown",
   "id": "9dd423d2-4728-48dc-9b1e-d3aeecdc202b",
   "metadata": {},
   "source": [
    "# Distribution of MedV"
   ]
  },
  {
   "cell_type": "code",
   "execution_count": 25,
   "id": "f101a11b-08cc-4c55-879a-10be83cc77b3",
   "metadata": {},
   "outputs": [],
   "source": [
    "import matplotlib.pyplot as plt\n",
    "import seaborn as sns\n",
    "\n",
    "%matplotlib inline"
   ]
  },
  {
   "cell_type": "code",
   "execution_count": 39,
   "id": "52711604-5eeb-4ab4-bc64-d775065624a3",
   "metadata": {},
   "outputs": [
    {
     "data": {
      "text/plain": [
       "<Axes: xlabel='medv', ylabel='Count'>"
      ]
     },
     "execution_count": 39,
     "metadata": {},
     "output_type": "execute_result"
    },
    {
     "data": {
      "image/png": "[encoded data removed]",
      "text/plain": [
       "<Figure size 640x480 with 1 Axes>"
      ]
     },
     "metadata": {},
     "output_type": "display_data"
    }
   ],
   "source": [
    "sns.histplot(df.medv,bins=50)"
   ]
  },
  {
   "cell_type": "code",
   "execution_count": 36,
   "id": "dbaa3e8f-1115-4cd2-94a1-a02c0751acbc",
   "metadata": {},
   "outputs": [
    {
     "data": {
      "text/plain": [
       "0      3.218876\n",
       "1      3.117950\n",
       "2      3.575151\n",
       "3      3.538057\n",
       "4      3.616309\n",
       "         ...   \n",
       "501    3.152736\n",
       "502    3.072693\n",
       "503    3.214868\n",
       "504    3.135494\n",
       "505    2.557227\n",
       "Name: medv, Length: 506, dtype: float64"
      ]
     },
     "execution_count": 36,
     "metadata": {},
     "output_type": "execute_result"
    }
   ],
   "source": [
    "medv_log = np.log1p(df.medv)\n",
    "medv_log"
   ]
  },
  {
   "cell_type": "code",
   "execution_count": 37,
   "id": "074c07c8-f76b-479b-a395-e0a762b57646",
   "metadata": {},
   "outputs": [
    {
     "data": {
      "text/plain": [
       "crim       0\n",
       "zn         0\n",
       "indus      0\n",
       "chas       0\n",
       "nox        0\n",
       "rm         0\n",
       "age        0\n",
       "dis        0\n",
       "rad        0\n",
       "tax        0\n",
       "ptratio    0\n",
       "b          0\n",
       "lstat      0\n",
       "medv       0\n",
       "dtype: int64"
      ]
     },
     "execution_count": 37,
     "metadata": {},
     "output_type": "execute_result"
    }
   ],
   "source": [
    "df.isnull().sum()"
   ]
  },
  {
   "cell_type": "markdown",
   "id": "34a0ff87-b322-4735-9241-99ab7e2bd903",
   "metadata": {},
   "source": [
    "## Preparing the data set for training & testing & validation"
   ]
  },
  {
   "cell_type": "code",
   "execution_count": 46,
   "id": "ec175308-9683-40cb-a9ed-ba54551dc799",
   "metadata": {},
   "outputs": [
    {
     "data": {
      "text/plain": [
       "(101, 101, 304)"
      ]
     },
     "execution_count": 46,
     "metadata": {},
     "output_type": "execute_result"
    }
   ],
   "source": [
    "n = len(df)\n",
    "val_n = int(n * 0.2)\n",
    "test_n = int(n*0.2)\n",
    "train_n = n - val_n -test_n\n",
    "test_n,val_n,train_n"
   ]
  },
  {
   "cell_type": "markdown",
   "id": "f38bce41-91b2-4e2e-aa85-b33f677d312d",
   "metadata": {},
   "source": [
    "## Shuffling Dataset"
   ]
  },
  {
   "cell_type": "code",
   "execution_count": 49,
   "id": "9e6dfc72-ad76-4609-86cd-2332d68e85c1",
   "metadata": {},
   "outputs": [],
   "source": [
    "idx = np.arange(n)"
   ]
  },
  {
   "cell_type": "code",
   "execution_count": null,
   "id": "d5f9b1fe-e259-47df-a2c5-87e589a2228c",
   "metadata": {},
   "outputs": [],
   "source": []
  }
 ],
 "metadata": {
  "kernelspec": {
   "display_name": "Python 3 (ipykernel)",
   "language": "python",
   "name": "python3"
  },
  "language_info": {
   "codemirror_mode": {
    "name": "ipython",
    "version": 3
   },
   "file_extension": ".py",
   "mimetype": "text/x-python",
   "name": "python",
   "nbconvert_exporter": "python",
   "pygments_lexer": "ipython3",
   "version": "3.10.11"
  }
 },
 "nbformat": 4,
 "nbformat_minor": 5
}
