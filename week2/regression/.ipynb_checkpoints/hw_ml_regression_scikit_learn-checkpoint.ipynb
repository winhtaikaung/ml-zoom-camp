{
 "cells": [
  {
   "cell_type": "code",
   "execution_count": 83,
   "id": "a63a586c-30ca-42dd-967d-1cb506ee57bd",
   "metadata": {},
   "outputs": [],
   "source": [
    "import pandas as pd\n",
    "import numpy as np\n",
    "import matplotlib.pyplot as plt\n",
    "import seaborn as sns\n",
    "\n",
    "\n"
   ]
  },
  {
   "cell_type": "code",
   "execution_count": 84,
   "id": "4a378d8c-a9bf-4d38-9d22-92f925114fae",
   "metadata": {},
   "outputs": [],
   "source": [
    "df = pd.read_csv('lg_software_salary.csv')"
   ]
  },
  {
   "cell_type": "code",
   "execution_count": 85,
   "id": "31b808f6-e304-48cb-83c1-fc0abcb675cb",
   "metadata": {},
   "outputs": [
    {
     "data": {
      "text/html": [
       "<div>\n",
       "<style scoped>\n",
       "    .dataframe tbody tr th:only-of-type {\n",
       "        vertical-align: middle;\n",
       "    }\n",
       "\n",
       "    .dataframe tbody tr th {\n",
       "        vertical-align: top;\n",
       "    }\n",
       "\n",
       "    .dataframe thead th {\n",
       "        text-align: right;\n",
       "    }\n",
       "</style>\n",
       "<table border=\"1\" class=\"dataframe\">\n",
       "  <thead>\n",
       "    <tr style=\"text-align: right;\">\n",
       "      <th></th>\n",
       "      <th>Rating</th>\n",
       "      <th>Company Name</th>\n",
       "      <th>Job Title</th>\n",
       "      <th>Salary</th>\n",
       "      <th>Salaries Reported</th>\n",
       "      <th>Location</th>\n",
       "      <th>Employment Status</th>\n",
       "      <th>Job Roles</th>\n",
       "    </tr>\n",
       "  </thead>\n",
       "  <tbody>\n",
       "    <tr>\n",
       "      <th>0</th>\n",
       "      <td>3.8</td>\n",
       "      <td>Sasken</td>\n",
       "      <td>Android Developer</td>\n",
       "      <td>400000</td>\n",
       "      <td>3</td>\n",
       "      <td>Bangalore</td>\n",
       "      <td>Full Time</td>\n",
       "      <td>Android</td>\n",
       "    </tr>\n",
       "    <tr>\n",
       "      <th>1</th>\n",
       "      <td>4.5</td>\n",
       "      <td>Advanced Millennium Technologies</td>\n",
       "      <td>Android Developer</td>\n",
       "      <td>400000</td>\n",
       "      <td>3</td>\n",
       "      <td>Bangalore</td>\n",
       "      <td>Full Time</td>\n",
       "      <td>Android</td>\n",
       "    </tr>\n",
       "    <tr>\n",
       "      <th>2</th>\n",
       "      <td>4.0</td>\n",
       "      <td>Unacademy</td>\n",
       "      <td>Android Developer</td>\n",
       "      <td>1000000</td>\n",
       "      <td>3</td>\n",
       "      <td>Bangalore</td>\n",
       "      <td>Full Time</td>\n",
       "      <td>Android</td>\n",
       "    </tr>\n",
       "    <tr>\n",
       "      <th>3</th>\n",
       "      <td>3.8</td>\n",
       "      <td>SnapBizz Cloudtech</td>\n",
       "      <td>Android Developer</td>\n",
       "      <td>300000</td>\n",
       "      <td>3</td>\n",
       "      <td>Bangalore</td>\n",
       "      <td>Full Time</td>\n",
       "      <td>Android</td>\n",
       "    </tr>\n",
       "    <tr>\n",
       "      <th>4</th>\n",
       "      <td>4.4</td>\n",
       "      <td>Appoids Tech Solutions</td>\n",
       "      <td>Android Developer</td>\n",
       "      <td>600000</td>\n",
       "      <td>3</td>\n",
       "      <td>Bangalore</td>\n",
       "      <td>Full Time</td>\n",
       "      <td>Android</td>\n",
       "    </tr>\n",
       "  </tbody>\n",
       "</table>\n",
       "</div>"
      ],
      "text/plain": [
       "   Rating                      Company Name          Job Title   Salary  \\\n",
       "0     3.8                            Sasken  Android Developer   400000   \n",
       "1     4.5  Advanced Millennium Technologies  Android Developer   400000   \n",
       "2     4.0                         Unacademy  Android Developer  1000000   \n",
       "3     3.8                SnapBizz Cloudtech  Android Developer   300000   \n",
       "4     4.4            Appoids Tech Solutions  Android Developer   600000   \n",
       "\n",
       "   Salaries Reported   Location Employment Status Job Roles  \n",
       "0                  3  Bangalore         Full Time   Android  \n",
       "1                  3  Bangalore         Full Time   Android  \n",
       "2                  3  Bangalore         Full Time   Android  \n",
       "3                  3  Bangalore         Full Time   Android  \n",
       "4                  3  Bangalore         Full Time   Android  "
      ]
     },
     "execution_count": 85,
     "metadata": {},
     "output_type": "execute_result"
    }
   ],
   "source": [
    "df.head()"
   ]
  },
  {
   "cell_type": "code",
   "execution_count": 86,
   "id": "8ec58c1d-42f0-48b9-8c45-242bb6ab0e7a",
   "metadata": {},
   "outputs": [],
   "source": [
    "df.columns=df.columns.str.lower().str.replace(' ','_')"
   ]
  },
  {
   "cell_type": "code",
   "execution_count": 87,
   "id": "fbf1ab9a-7fbf-430e-a1f5-57f47f5be22f",
   "metadata": {},
   "outputs": [
    {
     "name": "stdout",
     "output_type": "stream",
     "text": [
      "rating\n",
      "[3.8  4.5  4.   4.4  4.2  3.7  3.1  3.6  3.9  4.8  4.1  4.3  4.9  5.\n",
      " 4.6  3.3  2.9  3.5  3.   1.   3.4  2.8  4.7  3.2  2.4  2.2  2.7  1.8\n",
      " 2.1  2.3  2.6  2.   1.4  1.5  2.5  1.7  1.9  1.6  3.95 1.3  3.85]\n",
      "\n",
      "\n",
      "company_name\n",
      "['sasken' 'advanced_millennium_technologies' 'unacademy'\n",
      " 'snapbizz_cloudtech' 'appoids_tech_solutions' 'freelancer'\n",
      " 'square_n_cube' 'samsung_r&d_institute_india_-_bangalore'\n",
      " 'dxminds_technologies' 'endeavour_software_technologies' 'craft_silicon'\n",
      " 'baronford_&_associates' 'wibmo' 'retail_pulse' 'bookmyshow'\n",
      " 'knowledge_flex' 'novopay_solutions' 'wealthengine' 'j.p._morgan'\n",
      " 'acviss' 'fresher' 'medongo' 'nuclei' 'esecforte_technologies'\n",
      " 'moveinsync_technology_solutions' 'tech_mahindra' 'thidiff_technologies'\n",
      " 'retranz_infolabs' 'ficuslot' 'krazybee' 'powerplay_app' 'dcoder'\n",
      " 'masai_school' 'integra_micro_software_services_(p)' 'docsapp'\n",
      " 'vispara_technosoft' 'vmoksha_technologies' 'artoo'\n",
      " 'edelweiss_financial_services' 'hubbler' 'l&t_technology_services'\n",
      " 'rossitek_mobile_apps_development' 'pricyfy' 'mynewcar' 'ibm'\n",
      " 'panel_coder_software_technologies' 'knitter'\n",
      " '3embed_software_technologies' 'web_digital_mantra' 'fitnytech'\n",
      " 'crk_gida_technologies' 'fugenx_technologies' 'outthinking'\n",
      " 'imars_technologies' 'greedygame' 'in_time_tec' 'indglobal'\n",
      " 'cybernetyx_interaktiv' 'karabi_software' 'keyfalcon_solutions' 'abcdef'\n",
      " 'cumulations_technologies' 'fembuddy' 'blewsoft_technologies'\n",
      " 'across_the_globe' 'harman' 'oust_labs' 'kaskeid_designs'\n",
      " 'trukker_technologies' 'datamatics_global_services' 'grabhouse'\n",
      " 'msewa_software_solution' 'honeywell' 'prematix_software_solution'\n",
      " 'provab_technosoft' 'ai-connect' 'idea_infinity_it_solutions'\n",
      " 'developer_on_rent' 'ozoprop_technologies' 'thinktac' 'ashwin_infotrron'\n",
      " 'housejoy' 'proven_solution' 'blooms_mobility_technologies'\n",
      " 'dt_consulting' 'kartel_technosoft' 'philips' 'vensure_employer_services'\n",
      " 'quhu' 'software_developers' 'livwell_holding' 'uolo_technology'\n",
      " 'msl_learning_systems' 'fermedicius_labs' 'dunzo' 'abc_tech'\n",
      " 'spurtree_technologies' 'grab_(india)' '42gears_mobility_systems' 'tata']\n",
      "\n",
      "\n",
      "job_title\n",
      "['android_developer' 'android_developer_-_intern'\n",
      " 'android_developer_-_contractor' 'android_developer_contractor'\n",
      " 'senior_android_developer' 'android_software_engineer' 'android_engineer'\n",
      " 'android_applications_developer_-_intern'\n",
      " 'android_applications_developer' 'android_app_developer_-_intern'\n",
      " 'senior_android_developer_and_team_lead' 'android_tech_lead'\n",
      " 'product_engineer_(android)' 'software_engineer_-_android'\n",
      " 'android_software_developer' 'android_software_developer_-_intern'\n",
      " 'senior_android_developer_contractor' 'junior_android_developer_-_intern'\n",
      " 'junior_android_developer' 'android_applications_developer_-_contractor'\n",
      " 'android_app_developer' 'lead_android_developer'\n",
      " 'android_engineer_-_intern' 'sr._android_developer'\n",
      " 'senior_android_engineer' 'senior_software_engineer_-_android'\n",
      " 'android_-_intern' 'android' 'android_&_flutter_developer_-_intern'\n",
      " 'associate_android_developer' 'senior_android_applications_developer'\n",
      " 'android_developer_trainee' 'sr_android_developer' 'android_trainee'\n",
      " 'android_trainee_-_intern' 'trainee_android_developer' 'android_lead'\n",
      " 'android_lead_developer' 'android_development_-_intern'\n",
      " 'android_development' 'android_team_lead' 'senior,_android_developer'\n",
      " 'lead_android_engineer' 'tech_lead-_android_applications_developer'\n",
      " 'senior_android_software_developer' 'full_stack_android_developer'\n",
      " 'android_framework_developer' 'android_architect'\n",
      " 'android_&amp;_flutter_developer' 'senior_software_engineer,_android'\n",
      " 'android_app_development' 'sr_android_engineer' 'android_team_leader'\n",
      " 'android_technical_lead' 'sde2(android)'\n",
      " 'web_developer/android_developer_-_intern'\n",
      " 'android_applications_develpoers' 'android_platform_developer_-_intern'\n",
      " 'android_test_engineer' 'senior_engineer_-_android'\n",
      " 'android_framework_engineer' 'game_developer_(_android,_windows)'\n",
      " 'android_testing' 'senior_software_engineer_(android/mobility)'\n",
      " 'ace_-_android_development' 'software_developer_(android)_-_intern'\n",
      " 'android_mobile_developer' 'android_and_flutter_developer'\n",
      " 'flutter/android_developer' 'android_dvelopere'\n",
      " 'freelance_android_mobile_developer' 'android_ionic_developer'\n",
      " 'android_develoiper' 'android_quality_engineer'\n",
      " 'software_engineer(android)' 'android_developer/software_engineer'\n",
      " 'android_programmer' 'junior_android_engineer'\n",
      " 'junior_android_app_developer' 'associate_android_engineer'\n",
      " '.net/android_developer' 'android_associate_trainee'\n",
      " 'i_am_working_with_globallogic_as_a_senior_android_developer'\n",
      " 'software_developer_-_android' 'android_trainee_contractor'\n",
      " 'software_engineer_android' 'software_developer_-_android_developer'\n",
      " 'software_&_android_developer' 'software_developer_(android)'\n",
      " 'software_engineer_(android_developer)' 'backend_developer'\n",
      " 'backend_developer_-_intern' 'backend_developer_-_contractor'\n",
      " 'backend_developer_contractor' 'software_engineer,_backend'\n",
      " 'sde-2_backend' 'backend_engineer' 'senior_backend_developer'\n",
      " 'backend_process_-_contractor' 'backend_software_engineer_at_myntra']\n",
      "\n",
      "\n",
      "salary\n",
      "[ 400000 1000000  300000  600000  100000  192000  240000  900000   24000\n",
      "  228000  360000  500000  408000  800000  200000  708000  396000  700000\n",
      "  216000  540000  252000  156000  348000  864000  120000  168000   96000\n",
      "  420000   72000  264000  672000  276000  492000  432000 1188000  732000\n",
      "  684000 2800000  852000 1200000 2300000   84000  468000 1300000 2200000\n",
      "  144000  312000  480000 2100000 1900000  180000 1400000  624000  240768\n",
      "  576000  720000 2000000  744000 1100000  636000 7100000  648000  288000\n",
      "  372000  504000  444000 1500000  384000  516000  588000  552000 1600000\n",
      " 2400000 1800000  336000 1128000 2500000 6900000  132000  324000  108000\n",
      "   60000 1152000  960000  660000 1700000  804000 1056000  528000 1092000\n",
      "  407616  204000  780000   48000  120384  564000 2700000  840000 3900000\n",
      " 1068000]\n",
      "\n",
      "\n",
      "salaries_reported\n",
      "[  3   2   1   5   4   6   8  11   9  30  19  35  17   7  43  24  21  15\n",
      "  14  13  12  10  26  29  18  16  84  38  36  20 291  23 353  40  60 162\n",
      "  68  33  45  73 135 100  22  75  37  34  65 115  28 186  41  31 188 149\n",
      "  77  76  52  39  83  25 361  42 280  74  44 331  70  50  48 263 116 106\n",
      " 103  98  91  80  71  64  51  46  32  27]\n",
      "\n",
      "\n",
      "location\n",
      "['bangalore' 'chennai' 'hyderabad' 'new_delhi' 'pune' 'jaipur' 'kerala'\n",
      " 'kolkata' 'madhya_pradesh' 'mumbai']\n",
      "\n",
      "\n",
      "employment_status\n",
      "['full_time' 'intern' 'contractor' 'trainee']\n",
      "\n",
      "\n",
      "job_roles\n",
      "['android' 'backend' 'database' 'frontend' 'ios' 'java' 'mobile' 'sde'\n",
      " 'python' 'web' 'testing']\n",
      "\n",
      "\n"
     ]
    }
   ],
   "source": [
    "df.head().T\n",
    "\n",
    "df[\"company_name\"].fillna(\"ffill\",inplace = True)\n",
    "\n",
    "cols = list(df.dtypes[df.dtypes == 'object'].index)\n",
    "for col in cols:\n",
    "    df[col] = df[col].str.lower().str.replace(' ','_')\n",
    "\n",
    "for col in df.columns:\n",
    "    print(col)\n",
    "    print(df[col].unique()[:100])\n",
    "    print(\"\\n\")"
   ]
  },
  {
   "cell_type": "code",
   "execution_count": 88,
   "id": "3d27c657-1dd0-428d-8a83-33534890b415",
   "metadata": {},
   "outputs": [
    {
     "data": {
      "text/plain": [
       "rating               0\n",
       "company_name         0\n",
       "job_title            0\n",
       "salary               0\n",
       "salaries_reported    0\n",
       "location             0\n",
       "employment_status    0\n",
       "job_roles            0\n",
       "dtype: int64"
      ]
     },
     "execution_count": 88,
     "metadata": {},
     "output_type": "execute_result"
    }
   ],
   "source": [
    "df.isnull().sum()"
   ]
  },
  {
   "cell_type": "code",
   "execution_count": 89,
   "id": "85d320bd-0f7f-4be8-9d49-a7577f6a661c",
   "metadata": {},
   "outputs": [
    {
     "data": {
      "text/plain": [
       "rating               float64\n",
       "company_name          object\n",
       "job_title             object\n",
       "salary                 int64\n",
       "salaries_reported      int64\n",
       "location              object\n",
       "employment_status     object\n",
       "job_roles             object\n",
       "dtype: object"
      ]
     },
     "execution_count": 89,
     "metadata": {},
     "output_type": "execute_result"
    }
   ],
   "source": [
    "\n",
    "df.dtypes\n"
   ]
  },
  {
   "cell_type": "code",
   "execution_count": 90,
   "id": "1af4bfc2-74eb-4ab6-ad82-69cdadd29536",
   "metadata": {},
   "outputs": [
    {
     "name": "stderr",
     "output_type": "stream",
     "text": [
      "/opt/conda/lib/python3.11/site-packages/seaborn/axisgrid.py:118: UserWarning: The figure layout has changed to tight\n",
      "  self._figure.tight_layout(*args, **kwargs)\n"
     ]
    },
    {
     "data": {
      "text/html": [
       "<div>\n",
       "<style scoped>\n",
       "    .dataframe tbody tr th:only-of-type {\n",
       "        vertical-align: middle;\n",
       "    }\n",
       "\n",
       "    .dataframe tbody tr th {\n",
       "        vertical-align: top;\n",
       "    }\n",
       "\n",
       "    .dataframe thead th {\n",
       "        text-align: right;\n",
       "    }\n",
       "</style>\n",
       "<table border=\"1\" class=\"dataframe\">\n",
       "  <thead>\n",
       "    <tr style=\"text-align: right;\">\n",
       "      <th></th>\n",
       "      <th>rating</th>\n",
       "      <th>company_name</th>\n",
       "      <th>job_title</th>\n",
       "      <th>salary</th>\n",
       "      <th>salaries_reported</th>\n",
       "      <th>location</th>\n",
       "      <th>employment_status</th>\n",
       "      <th>backend</th>\n",
       "      <th>database</th>\n",
       "      <th>frontend</th>\n",
       "      <th>ios</th>\n",
       "      <th>java</th>\n",
       "      <th>mobile</th>\n",
       "      <th>python</th>\n",
       "      <th>sde</th>\n",
       "      <th>testing</th>\n",
       "      <th>web</th>\n",
       "    </tr>\n",
       "  </thead>\n",
       "  <tbody>\n",
       "    <tr>\n",
       "      <th>0</th>\n",
       "      <td>3.8</td>\n",
       "      <td>sasken</td>\n",
       "      <td>android_developer</td>\n",
       "      <td>12.899222</td>\n",
       "      <td>3</td>\n",
       "      <td>bangalore</td>\n",
       "      <td>full_time</td>\n",
       "      <td>False</td>\n",
       "      <td>False</td>\n",
       "      <td>False</td>\n",
       "      <td>False</td>\n",
       "      <td>False</td>\n",
       "      <td>False</td>\n",
       "      <td>False</td>\n",
       "      <td>False</td>\n",
       "      <td>False</td>\n",
       "      <td>False</td>\n",
       "    </tr>\n",
       "    <tr>\n",
       "      <th>1</th>\n",
       "      <td>4.5</td>\n",
       "      <td>advanced_millennium_technologies</td>\n",
       "      <td>android_developer</td>\n",
       "      <td>12.899222</td>\n",
       "      <td>3</td>\n",
       "      <td>bangalore</td>\n",
       "      <td>full_time</td>\n",
       "      <td>False</td>\n",
       "      <td>False</td>\n",
       "      <td>False</td>\n",
       "      <td>False</td>\n",
       "      <td>False</td>\n",
       "      <td>False</td>\n",
       "      <td>False</td>\n",
       "      <td>False</td>\n",
       "      <td>False</td>\n",
       "      <td>False</td>\n",
       "    </tr>\n",
       "    <tr>\n",
       "      <th>2</th>\n",
       "      <td>4.0</td>\n",
       "      <td>unacademy</td>\n",
       "      <td>android_developer</td>\n",
       "      <td>13.815512</td>\n",
       "      <td>3</td>\n",
       "      <td>bangalore</td>\n",
       "      <td>full_time</td>\n",
       "      <td>False</td>\n",
       "      <td>False</td>\n",
       "      <td>False</td>\n",
       "      <td>False</td>\n",
       "      <td>False</td>\n",
       "      <td>False</td>\n",
       "      <td>False</td>\n",
       "      <td>False</td>\n",
       "      <td>False</td>\n",
       "      <td>False</td>\n",
       "    </tr>\n",
       "    <tr>\n",
       "      <th>3</th>\n",
       "      <td>3.8</td>\n",
       "      <td>snapbizz_cloudtech</td>\n",
       "      <td>android_developer</td>\n",
       "      <td>12.611541</td>\n",
       "      <td>3</td>\n",
       "      <td>bangalore</td>\n",
       "      <td>full_time</td>\n",
       "      <td>False</td>\n",
       "      <td>False</td>\n",
       "      <td>False</td>\n",
       "      <td>False</td>\n",
       "      <td>False</td>\n",
       "      <td>False</td>\n",
       "      <td>False</td>\n",
       "      <td>False</td>\n",
       "      <td>False</td>\n",
       "      <td>False</td>\n",
       "    </tr>\n",
       "    <tr>\n",
       "      <th>4</th>\n",
       "      <td>4.4</td>\n",
       "      <td>appoids_tech_solutions</td>\n",
       "      <td>android_developer</td>\n",
       "      <td>13.304687</td>\n",
       "      <td>3</td>\n",
       "      <td>bangalore</td>\n",
       "      <td>full_time</td>\n",
       "      <td>False</td>\n",
       "      <td>False</td>\n",
       "      <td>False</td>\n",
       "      <td>False</td>\n",
       "      <td>False</td>\n",
       "      <td>False</td>\n",
       "      <td>False</td>\n",
       "      <td>False</td>\n",
       "      <td>False</td>\n",
       "      <td>False</td>\n",
       "    </tr>\n",
       "  </tbody>\n",
       "</table>\n",
       "</div>"
      ],
      "text/plain": [
       "   rating                      company_name          job_title     salary  \\\n",
       "0     3.8                            sasken  android_developer  12.899222   \n",
       "1     4.5  advanced_millennium_technologies  android_developer  12.899222   \n",
       "2     4.0                         unacademy  android_developer  13.815512   \n",
       "3     3.8                snapbizz_cloudtech  android_developer  12.611541   \n",
       "4     4.4            appoids_tech_solutions  android_developer  13.304687   \n",
       "\n",
       "   salaries_reported   location employment_status  backend  database  \\\n",
       "0                  3  bangalore         full_time    False     False   \n",
       "1                  3  bangalore         full_time    False     False   \n",
       "2                  3  bangalore         full_time    False     False   \n",
       "3                  3  bangalore         full_time    False     False   \n",
       "4                  3  bangalore         full_time    False     False   \n",
       "\n",
       "   frontend    ios   java  mobile  python    sde  testing    web  \n",
       "0     False  False  False   False   False  False    False  False  \n",
       "1     False  False  False   False   False  False    False  False  \n",
       "2     False  False  False   False   False  False    False  False  \n",
       "3     False  False  False   False   False  False    False  False  \n",
       "4     False  False  False   False   False  False    False  False  "
      ]
     },
     "execution_count": 90,
     "metadata": {},
     "output_type": "execute_result"
    },
    {
     "data": {
      "image/png": "[encoded data removed]",
      "text/plain": [
       "<Figure size 500x500 with 1 Axes>"
      ]
     },
     "metadata": {},
     "output_type": "display_data"
    }
   ],
   "source": [
    "\n",
    "df_copy['salary'] = np.log1p(df.salary.values)\n",
    "\n",
    "\n",
    "# Distribution of Salary\n",
    "sns.lmplot(x =\"rating\", y =\"salary\", data = df_copy, order = 2, ci = None)\n",
    "\n",
    "df_copy.shape\n",
    "\n",
    "df_copy.dropna(inplace = True)\n",
    "df_copy.head()"
   ]
  },
  {
   "cell_type": "code",
   "execution_count": null,
   "id": "ee95c6cc-63a0-401f-aeec-99970f5a8b04",
   "metadata": {},
   "outputs": [],
   "source": []
  },
  {
   "cell_type": "markdown",
   "id": "4f315bda-7fbd-4244-8d98-ff019118ab49",
   "metadata": {},
   "source": [
    "# Setting up the validation framework"
   ]
  },
  {
   "cell_type": "code",
   "execution_count": 70,
   "id": "818c4506-6f33-489f-8345-cf232df57c23",
   "metadata": {},
   "outputs": [],
   "source": [
    "from sklearn.model_selection import train_test_split\n"
   ]
  },
  {
   "cell_type": "code",
   "execution_count": 71,
   "id": "0ed74727-5f15-4ef4-b2ea-546abe4f40fd",
   "metadata": {},
   "outputs": [
    {
     "data": {
      "text/plain": [
       "(13662, 4554, 4554)"
      ]
     },
     "execution_count": 71,
     "metadata": {},
     "output_type": "execute_result"
    }
   ],
   "source": [
    "df_full_train, df_test = train_test_split(df_copy, test_size=0.2, random_state=101,shuffle=True)\n",
    "df_train, df_val = train_test_split(df_full_train, test_size=0.25, random_state=101,shuffle=True)\n",
    "len(df_train),len(df_val),len(df_test)"
   ]
  },
  {
   "cell_type": "code",
   "execution_count": 72,
   "id": "9c99d3af-9508-4901-9026-bff3d46bee8b",
   "metadata": {},
   "outputs": [],
   "source": [
    "df_train = df_train.reset_index(drop=True)\n",
    "df_val = df_val.reset_index(drop=True)\n",
    "df_test = df_test.reset_index(drop=True)"
   ]
  },
  {
   "cell_type": "code",
   "execution_count": 73,
   "id": "bca8c499-26b8-44b6-bdb6-22cb304e8f46",
   "metadata": {},
   "outputs": [],
   "source": [
    "y_train = df_train.salary.values\n",
    "y_val = df_val.salary.values\n",
    "y_test = df_test.salary.values"
   ]
  },
  {
   "cell_type": "code",
   "execution_count": 77,
   "id": "6ae43a0d-3caf-4e37-b09c-044b4500e45a",
   "metadata": {},
   "outputs": [],
   "source": [
    "del df_train['salary']\n",
    "del df_val['salary']\n",
    "del df_test['salary']"
   ]
  },
  {
   "cell_type": "code",
   "execution_count": 80,
   "id": "3742434e-1d76-4f39-981f-af84b7772b0b",
   "metadata": {},
   "outputs": [
    {
     "name": "stdout",
     "output_type": "stream",
     "text": [
      "0.0008370109493545108\n"
     ]
    }
   ],
   "source": [
    "from sklearn.linear_model import LinearRegression\n",
    "\n",
    "X_train = np.array(df_train.rating).reshape(-1,1)\n",
    "y_train = np.array(y_train).reshape(-1,1)\n",
    "\n",
    "\n",
    "X_test = np.array(df_test.rating).reshape(-1,1)\n",
    "y_test = np.array(y_test).reshape(-1,1)\n",
    "\n",
    "regr = LinearRegression()\n",
    "regr.fit(X_train, y_train)\n",
    "print(regr.score(X_test, y_test))"
   ]
  },
  {
   "cell_type": "code",
   "execution_count": 81,
   "id": "5301fc1e-1c11-4c94-bd85-3845793c1e69",
   "metadata": {},
   "outputs": [
    {
     "data": {
      "image/png": "[encoded data removed]",
      "text/plain": [
       "<Figure size 640x480 with 1 Axes>"
      ]
     },
     "metadata": {},
     "output_type": "display_data"
    }
   ],
   "source": [
    "\n",
    "y_pred = regr.predict(X_test)\n",
    "plt.scatter(X_test, y_test, color ='b')\n",
    "plt.plot(X_test, y_pred, color ='k')\n",
    " \n",
    "plt.show()"
   ]
  },
  {
   "cell_type": "code",
   "execution_count": 20,
   "id": "5acb193c-f492-47ce-9e12-de4f5c0d2655",
   "metadata": {},
   "outputs": [
    {
     "data": {
      "text/plain": [
       "0        3.6\n",
       "1        4.0\n",
       "2        4.0\n",
       "3        4.3\n",
       "4        3.3\n",
       "        ... \n",
       "13657    2.8\n",
       "13658    3.0\n",
       "13659    3.7\n",
       "13660    4.0\n",
       "13661    2.5\n",
       "Name: rating, Length: 13662, dtype: float64"
      ]
     },
     "execution_count": 20,
     "metadata": {},
     "output_type": "execute_result"
    }
   ],
   "source": [
    "df_train.rating"
   ]
  },
  {
   "cell_type": "code",
   "execution_count": null,
   "id": "46c404f0-d8fc-4916-9539-97b526f6af02",
   "metadata": {},
   "outputs": [],
   "source": []
  }
 ],
 "metadata": {
  "kernelspec": {
   "display_name": "Python 3 (ipykernel)",
   "language": "python",
   "name": "python3"
  },
  "language_info": {
   "codemirror_mode": {
    "name": "ipython",
    "version": 3
   },
   "file_extension": ".py",
   "mimetype": "text/x-python",
   "name": "python",
   "nbconvert_exporter": "python",
   "pygments_lexer": "ipython3",
   "version": "3.11.4"
  }
 },
 "nbformat": 4,
 "nbformat_minor": 5
}
