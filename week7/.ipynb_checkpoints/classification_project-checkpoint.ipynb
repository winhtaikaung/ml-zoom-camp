{
 "cells": [
  {
   "cell_type": "code",
   "execution_count": 1,
   "id": "0383477a-edb6-43c2-b9c5-c6be53602d98",
   "metadata": {},
   "outputs": [],
   "source": [
    "import pandas as pd\n",
    "import numpy as np\n",
    "\n",
    "import seaborn as sns\n",
    "from matplotlib import pyplot as plt\n",
    "%matplotlib inline"
   ]
  },
  {
   "cell_type": "code",
   "execution_count": 2,
   "id": "35d5b862-0490-4b6f-add5-1d74b3939738",
   "metadata": {},
   "outputs": [],
   "source": [
    "org_df = pd.read_csv(\"../datasets/cardio_data_processed.csv\")"
   ]
  },
  {
   "cell_type": "code",
   "execution_count": 3,
   "id": "04bf3161-cdde-4323-a5a9-df2701a49288",
   "metadata": {},
   "outputs": [],
   "source": [
    "df = org_df.copy()"
   ]
  },
  {
   "cell_type": "code",
   "execution_count": 4,
   "id": "dd294256-d9db-4808-b8ea-2fab9027a746",
   "metadata": {},
   "outputs": [],
   "source": [
    "df.columns = df.columns.str.lower()"
   ]
  },
  {
   "cell_type": "code",
   "execution_count": 5,
   "id": "795ad03a-50f6-45bb-a6f5-eb0f66461656",
   "metadata": {},
   "outputs": [],
   "source": [
    "del df[\"bp_category_encoded\"]\n",
    "del df[\"id\"]\n",
    "del df[\"age\"]"
   ]
  },
  {
   "cell_type": "code",
   "execution_count": 6,
   "id": "13608a25-e038-45c5-8e72-9e8cd2ecd4f9",
   "metadata": {},
   "outputs": [],
   "source": [
    "df.bp_category = df.bp_category.str.lower().str.replace(\" \",\"_\")"
   ]
  },
  {
   "cell_type": "code",
   "execution_count": 7,
   "id": "23f5642f-7e51-4976-9794-4fca89f09f0d",
   "metadata": {},
   "outputs": [
    {
     "data": {
      "text/plain": [
       "array(['hypertension_stage_1', 'hypertension_stage_2', 'normal',\n",
       "       'elevated'], dtype=object)"
      ]
     },
     "execution_count": 7,
     "metadata": {},
     "output_type": "execute_result"
    }
   ],
   "source": [
    "df.bp_category.unique()"
   ]
  },
  {
   "cell_type": "code",
   "execution_count": 8,
   "id": "a4f23aef-2a66-4cae-9708-7856bcb77392",
   "metadata": {},
   "outputs": [
    {
     "data": {
      "text/plain": [
       "Index(['gender', 'height', 'weight', 'ap_hi', 'ap_lo', 'cholesterol', 'gluc',\n",
       "       'smoke', 'alco', 'active', 'cardio', 'age_years', 'bmi', 'bp_category'],\n",
       "      dtype='object')"
      ]
     },
     "execution_count": 8,
     "metadata": {},
     "output_type": "execute_result"
    }
   ],
   "source": [
    "df.columns"
   ]
  },
  {
   "cell_type": "code",
   "execution_count": 9,
   "id": "937a33a2-6146-42ad-ad0b-424930b84da6",
   "metadata": {},
   "outputs": [
    {
     "data": {
      "text/html": [
       "<div>\n",
       "<style scoped>\n",
       "    .dataframe tbody tr th:only-of-type {\n",
       "        vertical-align: middle;\n",
       "    }\n",
       "\n",
       "    .dataframe tbody tr th {\n",
       "        vertical-align: top;\n",
       "    }\n",
       "\n",
       "    .dataframe thead th {\n",
       "        text-align: right;\n",
       "    }\n",
       "</style>\n",
       "<table border=\"1\" class=\"dataframe\">\n",
       "  <thead>\n",
       "    <tr style=\"text-align: right;\">\n",
       "      <th></th>\n",
       "      <th>gender</th>\n",
       "      <th>height</th>\n",
       "      <th>weight</th>\n",
       "      <th>ap_hi</th>\n",
       "      <th>ap_lo</th>\n",
       "      <th>cholesterol</th>\n",
       "      <th>gluc</th>\n",
       "      <th>smoke</th>\n",
       "      <th>alco</th>\n",
       "      <th>active</th>\n",
       "      <th>cardio</th>\n",
       "      <th>age_years</th>\n",
       "      <th>bmi</th>\n",
       "    </tr>\n",
       "  </thead>\n",
       "  <tbody>\n",
       "    <tr>\n",
       "      <th>count</th>\n",
       "      <td>68205.0</td>\n",
       "      <td>68205.0</td>\n",
       "      <td>68205.0</td>\n",
       "      <td>68205.0</td>\n",
       "      <td>68205.0</td>\n",
       "      <td>68205.0</td>\n",
       "      <td>68205.0</td>\n",
       "      <td>68205.0</td>\n",
       "      <td>68205.0</td>\n",
       "      <td>68205.0</td>\n",
       "      <td>68205.0</td>\n",
       "      <td>68205.0</td>\n",
       "      <td>68205.0</td>\n",
       "    </tr>\n",
       "    <tr>\n",
       "      <th>mean</th>\n",
       "      <td>1.0</td>\n",
       "      <td>164.0</td>\n",
       "      <td>74.0</td>\n",
       "      <td>126.0</td>\n",
       "      <td>81.0</td>\n",
       "      <td>1.0</td>\n",
       "      <td>1.0</td>\n",
       "      <td>0.0</td>\n",
       "      <td>0.0</td>\n",
       "      <td>1.0</td>\n",
       "      <td>0.0</td>\n",
       "      <td>53.0</td>\n",
       "      <td>28.0</td>\n",
       "    </tr>\n",
       "    <tr>\n",
       "      <th>std</th>\n",
       "      <td>0.0</td>\n",
       "      <td>8.0</td>\n",
       "      <td>14.0</td>\n",
       "      <td>16.0</td>\n",
       "      <td>9.0</td>\n",
       "      <td>1.0</td>\n",
       "      <td>1.0</td>\n",
       "      <td>0.0</td>\n",
       "      <td>0.0</td>\n",
       "      <td>0.0</td>\n",
       "      <td>0.0</td>\n",
       "      <td>7.0</td>\n",
       "      <td>6.0</td>\n",
       "    </tr>\n",
       "    <tr>\n",
       "      <th>min</th>\n",
       "      <td>1.0</td>\n",
       "      <td>55.0</td>\n",
       "      <td>11.0</td>\n",
       "      <td>90.0</td>\n",
       "      <td>60.0</td>\n",
       "      <td>1.0</td>\n",
       "      <td>1.0</td>\n",
       "      <td>0.0</td>\n",
       "      <td>0.0</td>\n",
       "      <td>0.0</td>\n",
       "      <td>0.0</td>\n",
       "      <td>29.0</td>\n",
       "      <td>3.0</td>\n",
       "    </tr>\n",
       "    <tr>\n",
       "      <th>25%</th>\n",
       "      <td>1.0</td>\n",
       "      <td>159.0</td>\n",
       "      <td>65.0</td>\n",
       "      <td>120.0</td>\n",
       "      <td>80.0</td>\n",
       "      <td>1.0</td>\n",
       "      <td>1.0</td>\n",
       "      <td>0.0</td>\n",
       "      <td>0.0</td>\n",
       "      <td>1.0</td>\n",
       "      <td>0.0</td>\n",
       "      <td>48.0</td>\n",
       "      <td>24.0</td>\n",
       "    </tr>\n",
       "    <tr>\n",
       "      <th>50%</th>\n",
       "      <td>1.0</td>\n",
       "      <td>165.0</td>\n",
       "      <td>72.0</td>\n",
       "      <td>120.0</td>\n",
       "      <td>80.0</td>\n",
       "      <td>1.0</td>\n",
       "      <td>1.0</td>\n",
       "      <td>0.0</td>\n",
       "      <td>0.0</td>\n",
       "      <td>1.0</td>\n",
       "      <td>0.0</td>\n",
       "      <td>53.0</td>\n",
       "      <td>26.0</td>\n",
       "    </tr>\n",
       "    <tr>\n",
       "      <th>75%</th>\n",
       "      <td>2.0</td>\n",
       "      <td>170.0</td>\n",
       "      <td>82.0</td>\n",
       "      <td>140.0</td>\n",
       "      <td>90.0</td>\n",
       "      <td>1.0</td>\n",
       "      <td>1.0</td>\n",
       "      <td>0.0</td>\n",
       "      <td>0.0</td>\n",
       "      <td>1.0</td>\n",
       "      <td>1.0</td>\n",
       "      <td>58.0</td>\n",
       "      <td>30.0</td>\n",
       "    </tr>\n",
       "    <tr>\n",
       "      <th>max</th>\n",
       "      <td>2.0</td>\n",
       "      <td>250.0</td>\n",
       "      <td>200.0</td>\n",
       "      <td>180.0</td>\n",
       "      <td>120.0</td>\n",
       "      <td>3.0</td>\n",
       "      <td>3.0</td>\n",
       "      <td>1.0</td>\n",
       "      <td>1.0</td>\n",
       "      <td>1.0</td>\n",
       "      <td>1.0</td>\n",
       "      <td>64.0</td>\n",
       "      <td>299.0</td>\n",
       "    </tr>\n",
       "  </tbody>\n",
       "</table>\n",
       "</div>"
      ],
      "text/plain": [
       "        gender   height   weight    ap_hi    ap_lo  cholesterol     gluc  \\\n",
       "count  68205.0  68205.0  68205.0  68205.0  68205.0      68205.0  68205.0   \n",
       "mean       1.0    164.0     74.0    126.0     81.0          1.0      1.0   \n",
       "std        0.0      8.0     14.0     16.0      9.0          1.0      1.0   \n",
       "min        1.0     55.0     11.0     90.0     60.0          1.0      1.0   \n",
       "25%        1.0    159.0     65.0    120.0     80.0          1.0      1.0   \n",
       "50%        1.0    165.0     72.0    120.0     80.0          1.0      1.0   \n",
       "75%        2.0    170.0     82.0    140.0     90.0          1.0      1.0   \n",
       "max        2.0    250.0    200.0    180.0    120.0          3.0      3.0   \n",
       "\n",
       "         smoke     alco   active   cardio  age_years      bmi  \n",
       "count  68205.0  68205.0  68205.0  68205.0    68205.0  68205.0  \n",
       "mean       0.0      0.0      1.0      0.0       53.0     28.0  \n",
       "std        0.0      0.0      0.0      0.0        7.0      6.0  \n",
       "min        0.0      0.0      0.0      0.0       29.0      3.0  \n",
       "25%        0.0      0.0      1.0      0.0       48.0     24.0  \n",
       "50%        0.0      0.0      1.0      0.0       53.0     26.0  \n",
       "75%        0.0      0.0      1.0      1.0       58.0     30.0  \n",
       "max        1.0      1.0      1.0      1.0       64.0    299.0  "
      ]
     },
     "execution_count": 9,
     "metadata": {},
     "output_type": "execute_result"
    }
   ],
   "source": [
    "df.describe().round()"
   ]
  },
  {
   "cell_type": "code",
   "execution_count": 10,
   "id": "2abef7fb-23b8-47cb-a944-f3d48f76b6d5",
   "metadata": {},
   "outputs": [
    {
     "data": {
      "text/plain": [
       "[]"
      ]
     },
     "execution_count": 10,
     "metadata": {},
     "output_type": "execute_result"
    }
   ],
   "source": [
    "# Check or is na in Columns\n",
    "df.columns[df.isnull().any()].tolist()"
   ]
  },
  {
   "cell_type": "markdown",
   "id": "5b613e11-c9b2-46d5-8141-aedb63a047ef",
   "metadata": {},
   "source": [
    "# EDA "
   ]
  },
  {
   "cell_type": "code",
   "execution_count": 11,
   "id": "c1ebb6c7-ed5a-425f-b004-fcc25b36a008",
   "metadata": {},
   "outputs": [],
   "source": [
    "\n",
    "\n",
    "gluc = {\n",
    "    1: 'normal',\n",
    "    2: 'above_normal',\n",
    "    3: 'well_above_normal'\n",
    "}\n",
    "\n",
    "df.gluc = df.gluc.map(gluc)\n",
    "\n",
    "smoking = {\n",
    "    1: 'no',\n",
    "    0: 'yes',\n",
    "}\n",
    "\n",
    "df.smoke = df.smoke.map(smoking)\n",
    "\n",
    "alco = {\n",
    "    1: 'yes',\n",
    "    0: 'no',\n",
    "}\n",
    "\n",
    "df.alco = df.alco.map(alco)\n",
    "\n",
    "\n",
    "active = {\n",
    "    1: 'yes',\n",
    "    0: 'no',\n",
    "}\n",
    "\n",
    "df.active = df.active.map(alco)\n"
   ]
  },
  {
   "cell_type": "code",
   "execution_count": 12,
   "id": "941fd584-4184-418a-9e15-eb4af55cba3c",
   "metadata": {},
   "outputs": [
    {
     "data": {
      "image/png": "[encoded data removed]",
      "text/plain": [
       "<Figure size 640x480 with 1 Axes>"
      ]
     },
     "metadata": {},
     "output_type": "display_data"
    }
   ],
   "source": [
    "plt.pie(df['gender'].value_counts(), labels=['female', 'male'], autopct='%1.1f%%', startangle=90);"
   ]
  },
  {
   "cell_type": "code",
   "execution_count": 13,
   "id": "d153378d-5adf-40e4-9e09-0e1081db1d3e",
   "metadata": {},
   "outputs": [
    {
     "data": {
      "image/png": "[encoded data removed]",
      "text/plain": [
       "<Figure size 640x480 with 1 Axes>"
      ]
     },
     "metadata": {},
     "output_type": "display_data"
    }
   ],
   "source": [
    "plt.pie(df['alco'].value_counts(), labels=['yes', 'no'], autopct='%1.1f%%', startangle=90);"
   ]
  },
  {
   "cell_type": "code",
   "execution_count": 14,
   "id": "5014f16e-ef10-43a3-ab0a-98652498f1f7",
   "metadata": {},
   "outputs": [
    {
     "data": {
      "text/plain": [
       "<Axes: xlabel='age_years'>"
      ]
     },
     "execution_count": 14,
     "metadata": {},
     "output_type": "execute_result"
    },
    {
     "data": {
      "image/png": "[encoded data removed]",
      "text/plain": [
       "<Figure size 2000x1000 with 1 Axes>"
      ]
     },
     "metadata": {},
     "output_type": "display_data"
    }
   ],
   "source": [
    "df['age_years'].value_counts().plot(kind='bar', figsize=(20,10))"
   ]
  },
  {
   "cell_type": "code",
   "execution_count": 15,
   "id": "0c934ef2-e20c-4ffe-bf7b-cbd83d99887a",
   "metadata": {},
   "outputs": [
    {
     "data": {
      "text/plain": [
       "Index(['gender', 'height', 'weight', 'ap_hi', 'ap_lo', 'cholesterol', 'cardio',\n",
       "       'age_years', 'bmi'],\n",
       "      dtype='object')"
      ]
     },
     "execution_count": 15,
     "metadata": {},
     "output_type": "execute_result"
    }
   ],
   "source": [
    "df.describe().columns"
   ]
  },
  {
   "cell_type": "code",
   "execution_count": 16,
   "id": "e35d8290-f876-4490-aa5b-fe3a58b1b570",
   "metadata": {},
   "outputs": [
    {
     "data": {
      "text/html": [
       "<div>\n",
       "<style scoped>\n",
       "    .dataframe tbody tr th:only-of-type {\n",
       "        vertical-align: middle;\n",
       "    }\n",
       "\n",
       "    .dataframe tbody tr th {\n",
       "        vertical-align: top;\n",
       "    }\n",
       "\n",
       "    .dataframe thead th {\n",
       "        text-align: right;\n",
       "    }\n",
       "</style>\n",
       "<table border=\"1\" class=\"dataframe\">\n",
       "  <thead>\n",
       "    <tr style=\"text-align: right;\">\n",
       "      <th></th>\n",
       "      <th>gender</th>\n",
       "      <th>height</th>\n",
       "      <th>weight</th>\n",
       "      <th>ap_hi</th>\n",
       "      <th>ap_lo</th>\n",
       "      <th>cholesterol</th>\n",
       "      <th>gluc</th>\n",
       "      <th>smoke</th>\n",
       "      <th>alco</th>\n",
       "      <th>active</th>\n",
       "      <th>cardio</th>\n",
       "      <th>age_years</th>\n",
       "      <th>bmi</th>\n",
       "      <th>bp_category</th>\n",
       "    </tr>\n",
       "  </thead>\n",
       "  <tbody>\n",
       "    <tr>\n",
       "      <th>0</th>\n",
       "      <td>2</td>\n",
       "      <td>168</td>\n",
       "      <td>62.0</td>\n",
       "      <td>110</td>\n",
       "      <td>80</td>\n",
       "      <td>1</td>\n",
       "      <td>normal</td>\n",
       "      <td>yes</td>\n",
       "      <td>no</td>\n",
       "      <td>yes</td>\n",
       "      <td>0</td>\n",
       "      <td>50</td>\n",
       "      <td>21.967120</td>\n",
       "      <td>hypertension_stage_1</td>\n",
       "    </tr>\n",
       "    <tr>\n",
       "      <th>1</th>\n",
       "      <td>1</td>\n",
       "      <td>156</td>\n",
       "      <td>85.0</td>\n",
       "      <td>140</td>\n",
       "      <td>90</td>\n",
       "      <td>3</td>\n",
       "      <td>normal</td>\n",
       "      <td>yes</td>\n",
       "      <td>no</td>\n",
       "      <td>yes</td>\n",
       "      <td>1</td>\n",
       "      <td>55</td>\n",
       "      <td>34.927679</td>\n",
       "      <td>hypertension_stage_2</td>\n",
       "    </tr>\n",
       "    <tr>\n",
       "      <th>2</th>\n",
       "      <td>1</td>\n",
       "      <td>165</td>\n",
       "      <td>64.0</td>\n",
       "      <td>130</td>\n",
       "      <td>70</td>\n",
       "      <td>3</td>\n",
       "      <td>normal</td>\n",
       "      <td>yes</td>\n",
       "      <td>no</td>\n",
       "      <td>no</td>\n",
       "      <td>1</td>\n",
       "      <td>51</td>\n",
       "      <td>23.507805</td>\n",
       "      <td>hypertension_stage_1</td>\n",
       "    </tr>\n",
       "    <tr>\n",
       "      <th>3</th>\n",
       "      <td>2</td>\n",
       "      <td>169</td>\n",
       "      <td>82.0</td>\n",
       "      <td>150</td>\n",
       "      <td>100</td>\n",
       "      <td>1</td>\n",
       "      <td>normal</td>\n",
       "      <td>yes</td>\n",
       "      <td>no</td>\n",
       "      <td>yes</td>\n",
       "      <td>1</td>\n",
       "      <td>48</td>\n",
       "      <td>28.710479</td>\n",
       "      <td>hypertension_stage_2</td>\n",
       "    </tr>\n",
       "    <tr>\n",
       "      <th>4</th>\n",
       "      <td>1</td>\n",
       "      <td>156</td>\n",
       "      <td>56.0</td>\n",
       "      <td>100</td>\n",
       "      <td>60</td>\n",
       "      <td>1</td>\n",
       "      <td>normal</td>\n",
       "      <td>yes</td>\n",
       "      <td>no</td>\n",
       "      <td>no</td>\n",
       "      <td>0</td>\n",
       "      <td>47</td>\n",
       "      <td>23.011177</td>\n",
       "      <td>normal</td>\n",
       "    </tr>\n",
       "    <tr>\n",
       "      <th>...</th>\n",
       "      <td>...</td>\n",
       "      <td>...</td>\n",
       "      <td>...</td>\n",
       "      <td>...</td>\n",
       "      <td>...</td>\n",
       "      <td>...</td>\n",
       "      <td>...</td>\n",
       "      <td>...</td>\n",
       "      <td>...</td>\n",
       "      <td>...</td>\n",
       "      <td>...</td>\n",
       "      <td>...</td>\n",
       "      <td>...</td>\n",
       "      <td>...</td>\n",
       "    </tr>\n",
       "    <tr>\n",
       "      <th>68200</th>\n",
       "      <td>2</td>\n",
       "      <td>168</td>\n",
       "      <td>76.0</td>\n",
       "      <td>120</td>\n",
       "      <td>80</td>\n",
       "      <td>1</td>\n",
       "      <td>normal</td>\n",
       "      <td>no</td>\n",
       "      <td>no</td>\n",
       "      <td>yes</td>\n",
       "      <td>0</td>\n",
       "      <td>52</td>\n",
       "      <td>26.927438</td>\n",
       "      <td>hypertension_stage_1</td>\n",
       "    </tr>\n",
       "    <tr>\n",
       "      <th>68201</th>\n",
       "      <td>1</td>\n",
       "      <td>158</td>\n",
       "      <td>126.0</td>\n",
       "      <td>140</td>\n",
       "      <td>90</td>\n",
       "      <td>2</td>\n",
       "      <td>above_normal</td>\n",
       "      <td>yes</td>\n",
       "      <td>no</td>\n",
       "      <td>yes</td>\n",
       "      <td>1</td>\n",
       "      <td>61</td>\n",
       "      <td>50.472681</td>\n",
       "      <td>hypertension_stage_2</td>\n",
       "    </tr>\n",
       "    <tr>\n",
       "      <th>68202</th>\n",
       "      <td>2</td>\n",
       "      <td>183</td>\n",
       "      <td>105.0</td>\n",
       "      <td>180</td>\n",
       "      <td>90</td>\n",
       "      <td>3</td>\n",
       "      <td>normal</td>\n",
       "      <td>yes</td>\n",
       "      <td>yes</td>\n",
       "      <td>no</td>\n",
       "      <td>1</td>\n",
       "      <td>52</td>\n",
       "      <td>31.353579</td>\n",
       "      <td>hypertension_stage_2</td>\n",
       "    </tr>\n",
       "    <tr>\n",
       "      <th>68203</th>\n",
       "      <td>1</td>\n",
       "      <td>163</td>\n",
       "      <td>72.0</td>\n",
       "      <td>135</td>\n",
       "      <td>80</td>\n",
       "      <td>1</td>\n",
       "      <td>above_normal</td>\n",
       "      <td>yes</td>\n",
       "      <td>no</td>\n",
       "      <td>no</td>\n",
       "      <td>1</td>\n",
       "      <td>61</td>\n",
       "      <td>27.099251</td>\n",
       "      <td>hypertension_stage_1</td>\n",
       "    </tr>\n",
       "    <tr>\n",
       "      <th>68204</th>\n",
       "      <td>1</td>\n",
       "      <td>170</td>\n",
       "      <td>72.0</td>\n",
       "      <td>120</td>\n",
       "      <td>80</td>\n",
       "      <td>2</td>\n",
       "      <td>normal</td>\n",
       "      <td>yes</td>\n",
       "      <td>no</td>\n",
       "      <td>yes</td>\n",
       "      <td>0</td>\n",
       "      <td>56</td>\n",
       "      <td>24.913495</td>\n",
       "      <td>hypertension_stage_1</td>\n",
       "    </tr>\n",
       "  </tbody>\n",
       "</table>\n",
       "<p>68205 rows × 14 columns</p>\n",
       "</div>"
      ],
      "text/plain": [
       "       gender  height  weight  ap_hi  ap_lo  cholesterol          gluc smoke  \\\n",
       "0           2     168    62.0    110     80            1        normal   yes   \n",
       "1           1     156    85.0    140     90            3        normal   yes   \n",
       "2           1     165    64.0    130     70            3        normal   yes   \n",
       "3           2     169    82.0    150    100            1        normal   yes   \n",
       "4           1     156    56.0    100     60            1        normal   yes   \n",
       "...       ...     ...     ...    ...    ...          ...           ...   ...   \n",
       "68200       2     168    76.0    120     80            1        normal    no   \n",
       "68201       1     158   126.0    140     90            2  above_normal   yes   \n",
       "68202       2     183   105.0    180     90            3        normal   yes   \n",
       "68203       1     163    72.0    135     80            1  above_normal   yes   \n",
       "68204       1     170    72.0    120     80            2        normal   yes   \n",
       "\n",
       "      alco active  cardio  age_years        bmi           bp_category  \n",
       "0       no    yes       0         50  21.967120  hypertension_stage_1  \n",
       "1       no    yes       1         55  34.927679  hypertension_stage_2  \n",
       "2       no     no       1         51  23.507805  hypertension_stage_1  \n",
       "3       no    yes       1         48  28.710479  hypertension_stage_2  \n",
       "4       no     no       0         47  23.011177                normal  \n",
       "...    ...    ...     ...        ...        ...                   ...  \n",
       "68200   no    yes       0         52  26.927438  hypertension_stage_1  \n",
       "68201   no    yes       1         61  50.472681  hypertension_stage_2  \n",
       "68202  yes     no       1         52  31.353579  hypertension_stage_2  \n",
       "68203   no     no       1         61  27.099251  hypertension_stage_1  \n",
       "68204   no    yes       0         56  24.913495  hypertension_stage_1  \n",
       "\n",
       "[68205 rows x 14 columns]"
      ]
     },
     "execution_count": 16,
     "metadata": {},
     "output_type": "execute_result"
    }
   ],
   "source": [
    "df"
   ]
  },
  {
   "cell_type": "code",
   "execution_count": 17,
   "id": "53a6ddc1-4e22-42a6-94b6-8604e52e4b6b",
   "metadata": {},
   "outputs": [
    {
     "data": {
      "text/plain": [
       "['gender',\n",
       " 'height',\n",
       " 'weight',\n",
       " 'ap_hi',\n",
       " 'ap_lo',\n",
       " 'cholesterol',\n",
       " 'gluc',\n",
       " 'smoke',\n",
       " 'alco',\n",
       " 'active',\n",
       " 'cardio',\n",
       " 'age_years',\n",
       " 'bmi',\n",
       " 'bp_category']"
      ]
     },
     "execution_count": 17,
     "metadata": {},
     "output_type": "execute_result"
    }
   ],
   "source": [
    "columns = list(df.columns)\n",
    "\n",
    "columns"
   ]
  },
  {
   "cell_type": "markdown",
   "id": "c3e37098-92b6-4c83-b451-80514806d891",
   "metadata": {},
   "source": [
    "# Train"
   ]
  },
  {
   "cell_type": "code",
   "execution_count": 18,
   "id": "763d2cbf-17c7-4166-a394-76be62e29436",
   "metadata": {},
   "outputs": [],
   "source": [
    "from sklearn.model_selection import train_test_split\n",
    "\n",
    "df_full_train, df_test = train_test_split(df, test_size=0.2, random_state=11)\n",
    "df_train, df_val = train_test_split(df_full_train, test_size=0.25, random_state=11)"
   ]
  },
  {
   "cell_type": "code",
   "execution_count": 19,
   "id": "4c25d6cb-cfd8-48a8-94f9-226b2e106468",
   "metadata": {},
   "outputs": [],
   "source": [
    "df_train = df_train.reset_index(drop=True)\n",
    "df_val = df_val.reset_index(drop=True)\n",
    "df_test = df_test.reset_index(drop=True)"
   ]
  },
  {
   "cell_type": "code",
   "execution_count": 20,
   "id": "27cdd4e4-5f89-4b81-976b-80d399c94a27",
   "metadata": {},
   "outputs": [],
   "source": [
    "y_train = df_train.cardio.values\n",
    "y_val = df_val.cardio.values\n",
    "y_test = df_test.cardio.values"
   ]
  },
  {
   "cell_type": "code",
   "execution_count": 21,
   "id": "35499c5c-9d37-4707-a195-b21221adbe15",
   "metadata": {},
   "outputs": [],
   "source": [
    "del df_train['cardio']\n",
    "del df_val['cardio']\n",
    "del df_test['cardio']"
   ]
  },
  {
   "cell_type": "code",
   "execution_count": 22,
   "id": "6167b00c-d647-4d4e-83cf-d5200d6cd607",
   "metadata": {},
   "outputs": [
    {
     "data": {
      "text/plain": [
       "cardio\n",
       "0    0.50581\n",
       "1    0.49419\n",
       "Name: proportion, dtype: float64"
      ]
     },
     "execution_count": 22,
     "metadata": {},
     "output_type": "execute_result"
    }
   ],
   "source": [
    "df_full_train.cardio.value_counts(normalize=True)"
   ]
  },
  {
   "cell_type": "code",
   "execution_count": 23,
   "id": "fb155662-ed74-4437-bccd-87154828f303",
   "metadata": {},
   "outputs": [
    {
     "name": "stdout",
     "output_type": "stream",
     "text": [
      "gender-->> 2.669988223491515e-05\n",
      "height-->> 0.0013101998141547974\n",
      "weight-->> 0.019766113720978556\n",
      "ap_hi-->> 0.11689753104369419\n",
      "ap_lo-->> 0.0707354901253279\n",
      "cholesterol-->> 0.02498817491025347\n",
      "gluc-->> 0.004353457147597994\n",
      "smoke-->> 8.510230503794292e-05\n",
      "alco-->> 4.833382552464627e-05\n",
      "active-->> 0.0006669282476497174\n",
      "cardio-->> 0.693079674013221\n",
      "age_years-->> 0.031784427134642135\n"
     ]
    },
    {
     "name": "stderr",
     "output_type": "stream",
     "text": [
      "/opt/conda/lib/python3.11/site-packages/sklearn/metrics/cluster/_supervised.py:66: UserWarning: Clustering metrics expects discrete values but received binary values for label, and continuous values for target\n",
      "  warnings.warn(msg, UserWarning)\n",
      "/opt/conda/lib/python3.11/site-packages/sklearn/metrics/cluster/_supervised.py:66: UserWarning: Clustering metrics expects discrete values but received binary values for label, and continuous values for target\n",
      "  warnings.warn(msg, UserWarning)\n"
     ]
    },
    {
     "name": "stdout",
     "output_type": "stream",
     "text": [
      "bmi-->> 0.058188618811005496\n",
      "bp_category-->> 0.07329385879224032\n"
     ]
    }
   ],
   "source": [
    "from sklearn.metrics import mutual_info_score\n",
    "for col in df_full_train.columns:\n",
    "\n",
    "    print(f\"{col}-->>\",mutual_info_score(df_full_train.cardio,df_full_train[col]))\n",
    "    "
   ]
  },
  {
   "cell_type": "code",
   "execution_count": 24,
   "id": "4cdfc00d-ecd3-452f-9d31-948e1f1a7fcb",
   "metadata": {},
   "outputs": [],
   "source": [
    "from sklearn.metrics import roc_auc_score, roc_curve"
   ]
  },
  {
   "cell_type": "code",
   "execution_count": 25,
   "id": "70bd84e7-19b9-4f28-ac75-ce98380c1090",
   "metadata": {},
   "outputs": [
    {
     "data": {
      "image/png": "[encoded data removed]",
      "text/plain": [
       "<Figure size 500x500 with 1 Axes>"
      ]
     },
     "metadata": {},
     "output_type": "display_data"
    }
   ],
   "source": [
    "plt.figure(figsize=(5, 5))\n",
    "\n",
    "for col in df_train.describe().columns:\n",
    "    fpr, tpr, _ = roc_curve(y_train, df_train[col])\n",
    "    plt.plot(fpr, tpr, label=col)\n",
    "    \n",
    "plt.plot([0, 1], [0, 1], color='grey', linestyle='--')\n",
    "\n",
    "plt.legend()\n",
    "plt.show()"
   ]
  },
  {
   "cell_type": "code",
   "execution_count": 26,
   "id": "42a21a01-7aa8-4f9e-976a-bb80247ac2cc",
   "metadata": {},
   "outputs": [],
   "source": [
    "from sklearn.model_selection import train_test_split\n",
    "from sklearn.feature_extraction import DictVectorizer\n",
    "from sklearn.linear_model import LogisticRegression\n",
    "from sklearn.metrics import roc_auc_score"
   ]
  },
  {
   "cell_type": "code",
   "execution_count": 27,
   "id": "9d9ed06f-a109-4aae-9202-581fe209a52e",
   "metadata": {},
   "outputs": [],
   "source": [
    "columns = list(df.columns)\n",
    "\n",
    "\n",
    "columns.remove(\"cardio\")\n",
    "columns.remove(\"bmi\")"
   ]
  },
  {
   "cell_type": "code",
   "execution_count": 28,
   "id": "3bd7277d-5b0a-411f-a4f9-3f84431ac723",
   "metadata": {},
   "outputs": [
    {
     "name": "stderr",
     "output_type": "stream",
     "text": [
      "/opt/conda/lib/python3.11/site-packages/sklearn/linear_model/_logistic.py:460: ConvergenceWarning: lbfgs failed to converge (status=1):\n",
      "STOP: TOTAL NO. of ITERATIONS REACHED LIMIT.\n",
      "\n",
      "Increase the number of iterations (max_iter) or scale the data as shown in:\n",
      "    https://scikit-learn.org/stable/modules/preprocessing.html\n",
      "Please also refer to the documentation for alternative solver options:\n",
      "    https://scikit-learn.org/stable/modules/linear_model.html#logistic-regression\n",
      "  n_iter_i = _check_optimize_result(\n"
     ]
    },
    {
     "data": {
      "text/html": [
       "<style>#sk-container-id-1 {color: black;}#sk-container-id-1 pre{padding: 0;}#sk-container-id-1 div.sk-toggleable {background-color: white;}#sk-container-id-1 label.sk-toggleable__label {cursor: pointer;display: block;width: 100%;margin-bottom: 0;padding: 0.3em;box-sizing: border-box;text-align: center;}#sk-container-id-1 label.sk-toggleable__label-arrow:before {content: \"▸\";float: left;margin-right: 0.25em;color: #696969;}#sk-container-id-1 label.sk-toggleable__label-arrow:hover:before {color: black;}#sk-container-id-1 div.sk-estimator:hover label.sk-toggleable__label-arrow:before {color: black;}#sk-container-id-1 div.sk-toggleable__content {max-height: 0;max-width: 0;overflow: hidden;text-align: left;background-color: #f0f8ff;}#sk-container-id-1 div.sk-toggleable__content pre {margin: 0.2em;color: black;border-radius: 0.25em;background-color: #f0f8ff;}#sk-container-id-1 input.sk-toggleable__control:checked~div.sk-toggleable__content {max-height: 200px;max-width: 100%;overflow: auto;}#sk-container-id-1 input.sk-toggleable__control:checked~label.sk-toggleable__label-arrow:before {content: \"▾\";}#sk-container-id-1 div.sk-estimator input.sk-toggleable__control:checked~label.sk-toggleable__label {background-color: #d4ebff;}#sk-container-id-1 div.sk-label input.sk-toggleable__control:checked~label.sk-toggleable__label {background-color: #d4ebff;}#sk-container-id-1 input.sk-hidden--visually {border: 0;clip: rect(1px 1px 1px 1px);clip: rect(1px, 1px, 1px, 1px);height: 1px;margin: -1px;overflow: hidden;padding: 0;position: absolute;width: 1px;}#sk-container-id-1 div.sk-estimator {font-family: monospace;background-color: #f0f8ff;border: 1px dotted black;border-radius: 0.25em;box-sizing: border-box;margin-bottom: 0.5em;}#sk-container-id-1 div.sk-estimator:hover {background-color: #d4ebff;}#sk-container-id-1 div.sk-parallel-item::after {content: \"\";width: 100%;border-bottom: 1px solid gray;flex-grow: 1;}#sk-container-id-1 div.sk-label:hover label.sk-toggleable__label {background-color: #d4ebff;}#sk-container-id-1 div.sk-serial::before {content: \"\";position: absolute;border-left: 1px solid gray;box-sizing: border-box;top: 0;bottom: 0;left: 50%;z-index: 0;}#sk-container-id-1 div.sk-serial {display: flex;flex-direction: column;align-items: center;background-color: white;padding-right: 0.2em;padding-left: 0.2em;position: relative;}#sk-container-id-1 div.sk-item {position: relative;z-index: 1;}#sk-container-id-1 div.sk-parallel {display: flex;align-items: stretch;justify-content: center;background-color: white;position: relative;}#sk-container-id-1 div.sk-item::before, #sk-container-id-1 div.sk-parallel-item::before {content: \"\";position: absolute;border-left: 1px solid gray;box-sizing: border-box;top: 0;bottom: 0;left: 50%;z-index: -1;}#sk-container-id-1 div.sk-parallel-item {display: flex;flex-direction: column;z-index: 1;position: relative;background-color: white;}#sk-container-id-1 div.sk-parallel-item:first-child::after {align-self: flex-end;width: 50%;}#sk-container-id-1 div.sk-parallel-item:last-child::after {align-self: flex-start;width: 50%;}#sk-container-id-1 div.sk-parallel-item:only-child::after {width: 0;}#sk-container-id-1 div.sk-dashed-wrapped {border: 1px dashed gray;margin: 0 0.4em 0.5em 0.4em;box-sizing: border-box;padding-bottom: 0.4em;background-color: white;}#sk-container-id-1 div.sk-label label {font-family: monospace;font-weight: bold;display: inline-block;line-height: 1.2em;}#sk-container-id-1 div.sk-label-container {text-align: center;}#sk-container-id-1 div.sk-container {/* jupyter's `normalize.less` sets `[hidden] { display: none; }` but bootstrap.min.css set `[hidden] { display: none !important; }` so we also need the `!important` here to be able to override the default hidden behavior on the sphinx rendered scikit-learn.org. See: https://github.com/scikit-learn/scikit-learn/issues/21755 */display: inline-block !important;position: relative;}#sk-container-id-1 div.sk-text-repr-fallback {display: none;}</style><div id=\"sk-container-id-1\" class=\"sk-top-container\"><div class=\"sk-text-repr-fallback\"><pre>LogisticRegression()</pre><b>In a Jupyter environment, please rerun this cell to show the HTML representation or trust the notebook. <br />On GitHub, the HTML representation is unable to render, please try loading this page with nbviewer.org.</b></div><div class=\"sk-container\" hidden><div class=\"sk-item\"><div class=\"sk-estimator sk-toggleable\"><input class=\"sk-toggleable__control sk-hidden--visually\" id=\"sk-estimator-id-1\" type=\"checkbox\" checked><label for=\"sk-estimator-id-1\" class=\"sk-toggleable__label sk-toggleable__label-arrow\">LogisticRegression</label><div class=\"sk-toggleable__content\"><pre>LogisticRegression()</pre></div></div></div></div></div>"
      ],
      "text/plain": [
       "LogisticRegression()"
      ]
     },
     "execution_count": 28,
     "metadata": {},
     "output_type": "execute_result"
    }
   ],
   "source": [
    "dv = DictVectorizer(sparse=False)\n",
    "\n",
    "train_dict = df_train[columns].to_dict(orient='records')\n",
    "X_train = dv.fit_transform(train_dict)\n",
    "\n",
    "model = LogisticRegression()\n",
    "model.fit(X_train, y_train)"
   ]
  },
  {
   "cell_type": "code",
   "execution_count": 29,
   "id": "bb51655b-24b7-4627-b0d5-5f3d990dc220",
   "metadata": {},
   "outputs": [],
   "source": [
    "val_dicts = df_val[columns].to_dict(orient='records')\n",
    "X_val = dv.transform(val_dicts)"
   ]
  },
  {
   "cell_type": "code",
   "execution_count": 30,
   "id": "9b6e9363-d809-4334-b15c-ae20ae8049de",
   "metadata": {},
   "outputs": [
    {
     "data": {
      "text/plain": [
       "0.7728472877546158"
      ]
     },
     "execution_count": 30,
     "metadata": {},
     "output_type": "execute_result"
    }
   ],
   "source": [
    "y_pred = model.predict_proba(X_val)[:, 1]\n",
    "roc_auc_score(y_val, y_pred)\n",
    "\n",
    "# y_pred = model.predict_proba(X_val)[:, 1]\n",
    "# roc_auc_score(y_test, y_pred)"
   ]
  },
  {
   "cell_type": "code",
   "execution_count": 31,
   "id": "13d5566c-1c68-412e-a8ed-6c7fc589acb3",
   "metadata": {},
   "outputs": [],
   "source": [
    "from sklearn.metrics import accuracy_score"
   ]
  },
  {
   "cell_type": "code",
   "execution_count": 32,
   "id": "ebd15ed4-7b1c-49e8-a658-b2a31c46491c",
   "metadata": {},
   "outputs": [
    {
     "data": {
      "text/plain": [
       "0.5136720181804854"
      ]
     },
     "execution_count": 32,
     "metadata": {},
     "output_type": "execute_result"
    }
   ],
   "source": [
    "accuracy_score(y_test, y_pred >= 0.5)"
   ]
  },
  {
   "cell_type": "code",
   "execution_count": 33,
   "id": "ad82c5bf-47ec-4e5e-ae97-c14e387cf2b7",
   "metadata": {},
   "outputs": [
    {
     "name": "stdout",
     "output_type": "stream",
     "text": [
      "0.00 0.490\n",
      "0.05 0.490\n",
      "0.10 0.496\n",
      "0.15 0.516\n",
      "0.20 0.548\n",
      "0.25 0.591\n",
      "0.30 0.636\n",
      "0.35 0.676\n",
      "0.40 0.698\n",
      "0.45 0.710\n",
      "0.50 0.713\n",
      "0.55 0.706\n",
      "0.60 0.697\n",
      "0.65 0.686\n",
      "0.70 0.668\n",
      "0.75 0.646\n",
      "0.80 0.620\n",
      "0.85 0.590\n",
      "0.90 0.555\n",
      "0.95 0.524\n",
      "1.00 0.510\n"
     ]
    }
   ],
   "source": [
    "thresholds = np.linspace(0, 1, 21)\n",
    "\n",
    "scores = []\n",
    "\n",
    "for t in thresholds:\n",
    "    score = accuracy_score(y_val, y_pred >= t)\n",
    "    print('%.2f %.3f' % (t, score))\n",
    "    scores.append(score)"
   ]
  },
  {
   "cell_type": "code",
   "execution_count": 34,
   "id": "0492b508-b2d6-4b8a-a24e-12fc64e11c46",
   "metadata": {},
   "outputs": [
    {
     "data": {
      "text/plain": [
       "[<matplotlib.lines.Line2D at 0x7fc9f1981750>]"
      ]
     },
     "execution_count": 34,
     "metadata": {},
     "output_type": "execute_result"
    },
    {
     "data": {
      "image/png": "[encoded data removed]",
      "text/plain": [
       "<Figure size 640x480 with 1 Axes>"
      ]
     },
     "metadata": {},
     "output_type": "display_data"
    }
   ],
   "source": [
    "plt.plot(thresholds, scores)\n"
   ]
  },
  {
   "cell_type": "code",
   "execution_count": 35,
   "id": "e166bdb7-5e58-487e-a2d7-50d320cf635f",
   "metadata": {},
   "outputs": [
    {
     "data": {
      "text/html": [
       "<div>\n",
       "<style scoped>\n",
       "    .dataframe tbody tr th:only-of-type {\n",
       "        vertical-align: middle;\n",
       "    }\n",
       "\n",
       "    .dataframe tbody tr th {\n",
       "        vertical-align: top;\n",
       "    }\n",
       "\n",
       "    .dataframe thead th {\n",
       "        text-align: right;\n",
       "    }\n",
       "</style>\n",
       "<table border=\"1\" class=\"dataframe\">\n",
       "  <thead>\n",
       "    <tr style=\"text-align: right;\">\n",
       "      <th></th>\n",
       "      <th>threshold</th>\n",
       "      <th>tp</th>\n",
       "      <th>fp</th>\n",
       "      <th>fn</th>\n",
       "      <th>tn</th>\n",
       "    </tr>\n",
       "  </thead>\n",
       "  <tbody>\n",
       "    <tr>\n",
       "      <th>0</th>\n",
       "      <td>0.0</td>\n",
       "      <td>6680</td>\n",
       "      <td>6961</td>\n",
       "      <td>0</td>\n",
       "      <td>0</td>\n",
       "    </tr>\n",
       "    <tr>\n",
       "      <th>10</th>\n",
       "      <td>0.1</td>\n",
       "      <td>6673</td>\n",
       "      <td>6872</td>\n",
       "      <td>7</td>\n",
       "      <td>89</td>\n",
       "    </tr>\n",
       "    <tr>\n",
       "      <th>20</th>\n",
       "      <td>0.2</td>\n",
       "      <td>6516</td>\n",
       "      <td>6001</td>\n",
       "      <td>164</td>\n",
       "      <td>960</td>\n",
       "    </tr>\n",
       "    <tr>\n",
       "      <th>30</th>\n",
       "      <td>0.3</td>\n",
       "      <td>5992</td>\n",
       "      <td>4277</td>\n",
       "      <td>688</td>\n",
       "      <td>2684</td>\n",
       "    </tr>\n",
       "    <tr>\n",
       "      <th>40</th>\n",
       "      <td>0.4</td>\n",
       "      <td>5142</td>\n",
       "      <td>2583</td>\n",
       "      <td>1538</td>\n",
       "      <td>4378</td>\n",
       "    </tr>\n",
       "    <tr>\n",
       "      <th>50</th>\n",
       "      <td>0.5</td>\n",
       "      <td>4267</td>\n",
       "      <td>1506</td>\n",
       "      <td>2413</td>\n",
       "      <td>5455</td>\n",
       "    </tr>\n",
       "    <tr>\n",
       "      <th>60</th>\n",
       "      <td>0.6</td>\n",
       "      <td>3491</td>\n",
       "      <td>939</td>\n",
       "      <td>3189</td>\n",
       "      <td>6022</td>\n",
       "    </tr>\n",
       "    <tr>\n",
       "      <th>70</th>\n",
       "      <td>0.7</td>\n",
       "      <td>2767</td>\n",
       "      <td>615</td>\n",
       "      <td>3913</td>\n",
       "      <td>6346</td>\n",
       "    </tr>\n",
       "    <tr>\n",
       "      <th>80</th>\n",
       "      <td>0.8</td>\n",
       "      <td>1873</td>\n",
       "      <td>371</td>\n",
       "      <td>4807</td>\n",
       "      <td>6590</td>\n",
       "    </tr>\n",
       "    <tr>\n",
       "      <th>90</th>\n",
       "      <td>0.9</td>\n",
       "      <td>756</td>\n",
       "      <td>140</td>\n",
       "      <td>5924</td>\n",
       "      <td>6821</td>\n",
       "    </tr>\n",
       "    <tr>\n",
       "      <th>100</th>\n",
       "      <td>1.0</td>\n",
       "      <td>0</td>\n",
       "      <td>0</td>\n",
       "      <td>6680</td>\n",
       "      <td>6961</td>\n",
       "    </tr>\n",
       "  </tbody>\n",
       "</table>\n",
       "</div>"
      ],
      "text/plain": [
       "     threshold    tp    fp    fn    tn\n",
       "0          0.0  6680  6961     0     0\n",
       "10         0.1  6673  6872     7    89\n",
       "20         0.2  6516  6001   164   960\n",
       "30         0.3  5992  4277   688  2684\n",
       "40         0.4  5142  2583  1538  4378\n",
       "50         0.5  4267  1506  2413  5455\n",
       "60         0.6  3491   939  3189  6022\n",
       "70         0.7  2767   615  3913  6346\n",
       "80         0.8  1873   371  4807  6590\n",
       "90         0.9   756   140  5924  6821\n",
       "100        1.0     0     0  6680  6961"
      ]
     },
     "execution_count": 35,
     "metadata": {},
     "output_type": "execute_result"
    }
   ],
   "source": [
    "def calculate_confusion_matrix(y_val,y_pred):\n",
    "    threshold = np.linspace(0,1,num=101).round(2)\n",
    "    matrix = []\n",
    "    for t in threshold:\n",
    "        \n",
    "        actual_positive = (y_val == 1)\n",
    "        actual_negative = (y_val == 0)\n",
    "        \n",
    "    \n",
    "        \n",
    "        predict_positive = (y_pred >= t)\n",
    "        predict_negative = (y_pred < t)\n",
    "        \n",
    "        tp = (predict_positive & actual_positive).sum()\n",
    "        tn = (predict_negative & actual_negative).sum()\n",
    "        \n",
    "        fp = (predict_positive & actual_negative).sum()\n",
    "        fn = (predict_negative & actual_positive).sum()\n",
    "        \n",
    "        confusion_matrix = np.array([\n",
    "            [tn, fp],\n",
    "            [fn, tp]\n",
    "        ])\n",
    "        columns = ['threshold', 'tp', 'fp', 'fn', 'tn']\n",
    "        matrix.append([t,tp,fp,fn,tn])\n",
    "    confusion_matrix = pd.DataFrame(matrix,columns=columns)\n",
    "    return confusion_matrix\n",
    "df_confusion_matrix = calculate_confusion_matrix(y_val,y_pred)\n",
    "df_confusion_matrix[::10]"
   ]
  },
  {
   "cell_type": "code",
   "execution_count": 36,
   "id": "d6737041-1fb7-4e94-8752-7c3c0e4479c1",
   "metadata": {},
   "outputs": [
    {
     "data": {
      "image/png": "[encoded data removed]",
      "text/plain": [
       "<Figure size 640x480 with 1 Axes>"
      ]
     },
     "metadata": {},
     "output_type": "display_data"
    }
   ],
   "source": [
    "df_confusion_matrix['p'] = df_confusion_matrix.tp / (df_confusion_matrix.tp + df_confusion_matrix.fp)\n",
    "df_confusion_matrix['r'] = df_confusion_matrix.tp / (df_confusion_matrix.tp + df_confusion_matrix.fn)\n",
    "\n",
    "\n",
    "plt.plot(df_confusion_matrix.threshold, df_confusion_matrix.p, label='precision')\n",
    "plt.plot(df_confusion_matrix.threshold, df_confusion_matrix.r, label='recall')\n",
    "\n",
    "plt.vlines(0.45, 0, 1, color='grey', linestyle='--', alpha=0.5)\n",
    "\n",
    "\n",
    "plt.legend()\n",
    "plt.show()"
   ]
  },
  {
   "cell_type": "markdown",
   "id": "b940923f-ff45-4563-a557-145b452b8dcb",
   "metadata": {},
   "source": [
    "# K Fold CV"
   ]
  },
  {
   "cell_type": "code",
   "execution_count": 37,
   "id": "50357c87-881e-47e6-a3aa-0820cd6e22e1",
   "metadata": {},
   "outputs": [],
   "source": [
    "from sklearn.model_selection import KFold"
   ]
  },
  {
   "cell_type": "code",
   "execution_count": 38,
   "id": "1fc3e79e-144a-4276-8443-b7f67e9e1563",
   "metadata": {},
   "outputs": [],
   "source": [
    "def train(col,df_train, y_train, C=1.0):\n",
    "    dicts = df_train[col].to_dict(orient='records')\n",
    "\n",
    "    dv = DictVectorizer()\n",
    "    X_train = dv.fit_transform(dicts)\n",
    "\n",
    "    model = LogisticRegression(solver='liblinear', C=C, max_iter=1000)\n",
    "    model.fit(X_train, y_train)\n",
    "\n",
    "    return dv, model\n",
    "\n",
    "def predict(col,df, dv, model):\n",
    "    dicts = df[col].to_dict(orient='records')\n",
    "\n",
    "    X = dv.transform(dicts)\n",
    "    y_pred = model.predict_proba(X)[:, 1]\n",
    "\n",
    "    return y_pred"
   ]
  },
  {
   "cell_type": "code",
   "execution_count": 39,
   "id": "66f308e3-6534-4607-b71b-d5bdb354d916",
   "metadata": {},
   "outputs": [
    {
     "data": {
      "text/plain": [
       "['gender',\n",
       " 'height',\n",
       " 'weight',\n",
       " 'ap_hi',\n",
       " 'ap_lo',\n",
       " 'cholesterol',\n",
       " 'gluc',\n",
       " 'smoke',\n",
       " 'alco',\n",
       " 'active',\n",
       " 'age_years',\n",
       " 'bp_category']"
      ]
     },
     "execution_count": 39,
     "metadata": {},
     "output_type": "execute_result"
    }
   ],
   "source": [
    "columns"
   ]
  },
  {
   "cell_type": "code",
   "execution_count": 40,
   "id": "331d2b2f-a515-4438-856a-7ec8efab01b5",
   "metadata": {},
   "outputs": [
    {
     "name": "stdout",
     "output_type": "stream",
     "text": [
      "0.793 +- 0.002\n"
     ]
    }
   ],
   "source": [
    "scores = []\n",
    "\n",
    "kfold = KFold(n_splits=5, shuffle=True, random_state=1)\n",
    "\n",
    "for train_idx, val_idx in kfold.split(df_full_train):\n",
    "    df_train = df_full_train.iloc[train_idx]\n",
    "    df_val = df_full_train.iloc[val_idx]\n",
    "\n",
    "    y_train = df_train.cardio.values\n",
    "    y_val = df_val.cardio.values\n",
    "    \n",
    "\n",
    "    dv, model = train(columns,df_train, y_train, C=15)\n",
    "    y_pred = predict(columns,df_val, dv, model)\n",
    "\n",
    "    auc = roc_auc_score(y_val, y_pred)\n",
    "    scores.append(auc)\n",
    "\n",
    "print('%.3f +- %.3f' % (np.mean(scores), np.std(scores)))"
   ]
  },
  {
   "cell_type": "code",
   "execution_count": 41,
   "id": "c00db12f-5b9f-4d72-b1fa-38981e97e043",
   "metadata": {},
   "outputs": [
    {
     "name": "stdout",
     "output_type": "stream",
     "text": [
      "Requirement already satisfied: tqdm in /opt/conda/lib/python3.11/site-packages (4.66.1)\n"
     ]
    }
   ],
   "source": [
    "!pip install tqdm"
   ]
  },
  {
   "cell_type": "code",
   "execution_count": 42,
   "id": "58111951-73eb-446b-86e7-d1b53f84228f",
   "metadata": {},
   "outputs": [],
   "source": [
    "from tqdm.auto import tqdm"
   ]
  },
  {
   "cell_type": "code",
   "execution_count": 43,
   "id": "5295734f-9f5a-4039-bcf3-54fb511396eb",
   "metadata": {},
   "outputs": [
    {
     "data": {
      "application/vnd.jupyter.widget-view+json": {
       "model_id": "f37f262fa6c74122980f024ccaaf1844",
       "version_major": 2,
       "version_minor": 0
      },
      "text/plain": [
       "  0%|          | 0/13 [00:00<?, ?it/s]"
      ]
     },
     "metadata": {},
     "output_type": "display_data"
    },
    {
     "name": "stdout",
     "output_type": "stream",
     "text": [
      "C=0.01, 0.784 +- 0.003\n",
      "C= 0.1, 0.792 +- 0.002\n",
      "C= 0.5, 0.793 +- 0.002\n",
      "C=  10, 0.793 +- 0.002\n",
      "C=  15, 0.793 +- 0.002\n",
      "C=  20, 0.793 +- 0.002\n",
      "C=  25, 0.793 +- 0.002\n",
      "C=  30, 0.793 +- 0.002\n",
      "C=  40, 0.793 +- 0.002\n",
      "C=  50, 0.793 +- 0.002\n",
      "C=  60, 0.793 +- 0.002\n",
      "C=  80, 0.793 +- 0.002\n",
      "C= 100, 0.793 +- 0.002\n"
     ]
    }
   ],
   "source": [
    "kfold = KFold(n_splits=5, shuffle=True, random_state=1)\n",
    "\n",
    "for C in tqdm([0.01, 0.1,0.5,10,15,20,25,30,40,50,60,80,100]):\n",
    "    scores = []\n",
    "\n",
    "    for train_idx, val_idx in kfold.split(df_full_train):\n",
    "        df_train = df_full_train.iloc[train_idx]\n",
    "        df_val = df_full_train.iloc[val_idx]\n",
    "\n",
    "        y_train = df_train.cardio.values\n",
    "        y_val = df_val.cardio.values\n",
    "\n",
    "        dv, model = train(columns,df_train, y_train, C=C)\n",
    "        y_pred = predict(columns,df_val, dv, model)\n",
    "\n",
    "        auc = roc_auc_score(y_val, y_pred)\n",
    "        scores.append(auc)\n",
    "\n",
    "    print('C=%4s, %.3f +- %.3f' % (C, np.mean(scores), np.std(scores)))"
   ]
  },
  {
   "cell_type": "markdown",
   "id": "bf1db592-84c5-41da-acab-2384290f1a94",
   "metadata": {},
   "source": [
    "# XG Boost "
   ]
  },
  {
   "cell_type": "code",
   "execution_count": 44,
   "id": "68accc91-e104-4a4d-ab3f-5b4e408e37dc",
   "metadata": {},
   "outputs": [
    {
     "name": "stdout",
     "output_type": "stream",
     "text": [
      "Requirement already satisfied: xgboost in /opt/conda/lib/python3.11/site-packages (2.0.2)\n",
      "Requirement already satisfied: numpy in /opt/conda/lib/python3.11/site-packages (from xgboost) (1.24.4)\n",
      "Requirement already satisfied: scipy in /opt/conda/lib/python3.11/site-packages (from xgboost) (1.11.3)\n"
     ]
    }
   ],
   "source": [
    "!pip install xgboost"
   ]
  },
  {
   "cell_type": "code",
   "execution_count": 45,
   "id": "edac6f30-b819-43d2-8e6c-ec738d27bafc",
   "metadata": {},
   "outputs": [],
   "source": [
    "import xgboost as xgb"
   ]
  },
  {
   "cell_type": "code",
   "execution_count": 54,
   "id": "983339ae-c1a1-4eaf-a320-04ea25eb8d82",
   "metadata": {},
   "outputs": [],
   "source": [
    "\n",
    "def train_xgBoost(xgb_params,num_boost_round,df_train,df_val,y_val,):\n",
    "    train_dicts = df_train.fillna(0).to_dict(orient='records')\n",
    "    dv = DictVectorizer(sparse=False)\n",
    "    X_train = dv.fit_transform(train_dicts)\n",
    "\n",
    "    val_dicts = df_val.fillna(0).to_dict(orient='records')\n",
    "    X_val = dv.fit_transform(val_dicts)\n",
    "\n",
    "    features = dv.feature_names_\n",
    "    dtrain = xgb.DMatrix(X_train, label=y_train, feature_names=features)\n",
    "    dval = xgb.DMatrix(X_val, label=y_val, feature_names=features)\n",
    "\n",
    "    \n",
    "    watchlist = [(dtrain, 'train'), (dval, 'val')]\n",
    "    model = xgb.train(xgb_params, dtrain, num_boost_round=500,verbose_eval=5,evals=watchlist)\n",
    "    return model"
   ]
  },
  {
   "cell_type": "code",
   "execution_count": 55,
   "id": "784f8477-2756-4cb0-8615-4fba753c15b6",
   "metadata": {},
   "outputs": [],
   "source": [
    "from sklearn.model_selection import train_test_split\n",
    "\n",
    "df_full_train, df_test = train_test_split(df, test_size=0.2, random_state=11)\n",
    "df_train, df_val = train_test_split(df_full_train, test_size=0.25, random_state=11)"
   ]
  },
  {
   "cell_type": "code",
   "execution_count": 56,
   "id": "e64712df-2c8f-462b-bed9-21d99992840a",
   "metadata": {},
   "outputs": [],
   "source": [
    "df_train = df_train.reset_index(drop=True)\n",
    "df_val = df_val.reset_index(drop=True)\n",
    "df_test = df_test.reset_index(drop=True)"
   ]
  },
  {
   "cell_type": "code",
   "execution_count": 57,
   "id": "f4760e66-df2a-41ae-96b1-3a43ecd31bc2",
   "metadata": {},
   "outputs": [],
   "source": [
    "y_train = df_train.cardio.values\n",
    "y_val = df_val.cardio.values\n",
    "y_test = df_test.cardio.values"
   ]
  },
  {
   "cell_type": "code",
   "execution_count": 58,
   "id": "3a3787c2-1b7f-44ae-b3f7-52999483484a",
   "metadata": {},
   "outputs": [],
   "source": [
    "del df_train['cardio']\n",
    "del df_val['cardio']\n",
    "del df_test['cardio']"
   ]
  },
  {
   "cell_type": "code",
   "execution_count": 59,
   "id": "f5d76208-cebc-429d-a8bc-6e41dba56b40",
   "metadata": {},
   "outputs": [
    {
     "data": {
      "text/html": [
       "<div>\n",
       "<style scoped>\n",
       "    .dataframe tbody tr th:only-of-type {\n",
       "        vertical-align: middle;\n",
       "    }\n",
       "\n",
       "    .dataframe tbody tr th {\n",
       "        vertical-align: top;\n",
       "    }\n",
       "\n",
       "    .dataframe thead th {\n",
       "        text-align: right;\n",
       "    }\n",
       "</style>\n",
       "<table border=\"1\" class=\"dataframe\">\n",
       "  <thead>\n",
       "    <tr style=\"text-align: right;\">\n",
       "      <th></th>\n",
       "      <th>gender</th>\n",
       "      <th>height</th>\n",
       "      <th>weight</th>\n",
       "      <th>ap_hi</th>\n",
       "      <th>ap_lo</th>\n",
       "      <th>cholesterol</th>\n",
       "      <th>gluc</th>\n",
       "      <th>smoke</th>\n",
       "      <th>alco</th>\n",
       "      <th>active</th>\n",
       "      <th>age_years</th>\n",
       "      <th>bmi</th>\n",
       "      <th>bp_category</th>\n",
       "    </tr>\n",
       "  </thead>\n",
       "  <tbody>\n",
       "    <tr>\n",
       "      <th>0</th>\n",
       "      <td>1</td>\n",
       "      <td>169</td>\n",
       "      <td>85.0</td>\n",
       "      <td>120</td>\n",
       "      <td>80</td>\n",
       "      <td>2</td>\n",
       "      <td>normal</td>\n",
       "      <td>yes</td>\n",
       "      <td>no</td>\n",
       "      <td>yes</td>\n",
       "      <td>50</td>\n",
       "      <td>29.760863</td>\n",
       "      <td>hypertension_stage_1</td>\n",
       "    </tr>\n",
       "    <tr>\n",
       "      <th>1</th>\n",
       "      <td>1</td>\n",
       "      <td>158</td>\n",
       "      <td>69.0</td>\n",
       "      <td>100</td>\n",
       "      <td>60</td>\n",
       "      <td>1</td>\n",
       "      <td>normal</td>\n",
       "      <td>yes</td>\n",
       "      <td>no</td>\n",
       "      <td>yes</td>\n",
       "      <td>53</td>\n",
       "      <td>27.639801</td>\n",
       "      <td>normal</td>\n",
       "    </tr>\n",
       "    <tr>\n",
       "      <th>2</th>\n",
       "      <td>1</td>\n",
       "      <td>162</td>\n",
       "      <td>65.0</td>\n",
       "      <td>120</td>\n",
       "      <td>80</td>\n",
       "      <td>2</td>\n",
       "      <td>above_normal</td>\n",
       "      <td>yes</td>\n",
       "      <td>no</td>\n",
       "      <td>yes</td>\n",
       "      <td>43</td>\n",
       "      <td>24.767566</td>\n",
       "      <td>hypertension_stage_1</td>\n",
       "    </tr>\n",
       "    <tr>\n",
       "      <th>3</th>\n",
       "      <td>1</td>\n",
       "      <td>163</td>\n",
       "      <td>65.0</td>\n",
       "      <td>120</td>\n",
       "      <td>80</td>\n",
       "      <td>1</td>\n",
       "      <td>normal</td>\n",
       "      <td>yes</td>\n",
       "      <td>no</td>\n",
       "      <td>no</td>\n",
       "      <td>49</td>\n",
       "      <td>24.464602</td>\n",
       "      <td>hypertension_stage_1</td>\n",
       "    </tr>\n",
       "    <tr>\n",
       "      <th>4</th>\n",
       "      <td>1</td>\n",
       "      <td>154</td>\n",
       "      <td>110.0</td>\n",
       "      <td>120</td>\n",
       "      <td>80</td>\n",
       "      <td>1</td>\n",
       "      <td>normal</td>\n",
       "      <td>yes</td>\n",
       "      <td>no</td>\n",
       "      <td>yes</td>\n",
       "      <td>61</td>\n",
       "      <td>46.382189</td>\n",
       "      <td>hypertension_stage_1</td>\n",
       "    </tr>\n",
       "    <tr>\n",
       "      <th>...</th>\n",
       "      <td>...</td>\n",
       "      <td>...</td>\n",
       "      <td>...</td>\n",
       "      <td>...</td>\n",
       "      <td>...</td>\n",
       "      <td>...</td>\n",
       "      <td>...</td>\n",
       "      <td>...</td>\n",
       "      <td>...</td>\n",
       "      <td>...</td>\n",
       "      <td>...</td>\n",
       "      <td>...</td>\n",
       "      <td>...</td>\n",
       "    </tr>\n",
       "    <tr>\n",
       "      <th>40918</th>\n",
       "      <td>2</td>\n",
       "      <td>168</td>\n",
       "      <td>70.0</td>\n",
       "      <td>130</td>\n",
       "      <td>80</td>\n",
       "      <td>3</td>\n",
       "      <td>normal</td>\n",
       "      <td>no</td>\n",
       "      <td>no</td>\n",
       "      <td>yes</td>\n",
       "      <td>52</td>\n",
       "      <td>24.801587</td>\n",
       "      <td>hypertension_stage_1</td>\n",
       "    </tr>\n",
       "    <tr>\n",
       "      <th>40919</th>\n",
       "      <td>1</td>\n",
       "      <td>149</td>\n",
       "      <td>66.0</td>\n",
       "      <td>160</td>\n",
       "      <td>90</td>\n",
       "      <td>1</td>\n",
       "      <td>normal</td>\n",
       "      <td>yes</td>\n",
       "      <td>no</td>\n",
       "      <td>yes</td>\n",
       "      <td>42</td>\n",
       "      <td>29.728391</td>\n",
       "      <td>hypertension_stage_2</td>\n",
       "    </tr>\n",
       "    <tr>\n",
       "      <th>40920</th>\n",
       "      <td>1</td>\n",
       "      <td>156</td>\n",
       "      <td>93.0</td>\n",
       "      <td>140</td>\n",
       "      <td>80</td>\n",
       "      <td>1</td>\n",
       "      <td>normal</td>\n",
       "      <td>yes</td>\n",
       "      <td>no</td>\n",
       "      <td>yes</td>\n",
       "      <td>47</td>\n",
       "      <td>38.214990</td>\n",
       "      <td>hypertension_stage_1</td>\n",
       "    </tr>\n",
       "    <tr>\n",
       "      <th>40921</th>\n",
       "      <td>2</td>\n",
       "      <td>176</td>\n",
       "      <td>85.0</td>\n",
       "      <td>120</td>\n",
       "      <td>80</td>\n",
       "      <td>1</td>\n",
       "      <td>normal</td>\n",
       "      <td>yes</td>\n",
       "      <td>no</td>\n",
       "      <td>yes</td>\n",
       "      <td>43</td>\n",
       "      <td>27.440599</td>\n",
       "      <td>hypertension_stage_1</td>\n",
       "    </tr>\n",
       "    <tr>\n",
       "      <th>40922</th>\n",
       "      <td>2</td>\n",
       "      <td>174</td>\n",
       "      <td>79.0</td>\n",
       "      <td>110</td>\n",
       "      <td>80</td>\n",
       "      <td>1</td>\n",
       "      <td>normal</td>\n",
       "      <td>yes</td>\n",
       "      <td>no</td>\n",
       "      <td>yes</td>\n",
       "      <td>48</td>\n",
       "      <td>26.093275</td>\n",
       "      <td>hypertension_stage_1</td>\n",
       "    </tr>\n",
       "  </tbody>\n",
       "</table>\n",
       "<p>40923 rows × 13 columns</p>\n",
       "</div>"
      ],
      "text/plain": [
       "       gender  height  weight  ap_hi  ap_lo  cholesterol          gluc smoke  \\\n",
       "0           1     169    85.0    120     80            2        normal   yes   \n",
       "1           1     158    69.0    100     60            1        normal   yes   \n",
       "2           1     162    65.0    120     80            2  above_normal   yes   \n",
       "3           1     163    65.0    120     80            1        normal   yes   \n",
       "4           1     154   110.0    120     80            1        normal   yes   \n",
       "...       ...     ...     ...    ...    ...          ...           ...   ...   \n",
       "40918       2     168    70.0    130     80            3        normal    no   \n",
       "40919       1     149    66.0    160     90            1        normal   yes   \n",
       "40920       1     156    93.0    140     80            1        normal   yes   \n",
       "40921       2     176    85.0    120     80            1        normal   yes   \n",
       "40922       2     174    79.0    110     80            1        normal   yes   \n",
       "\n",
       "      alco active  age_years        bmi           bp_category  \n",
       "0       no    yes         50  29.760863  hypertension_stage_1  \n",
       "1       no    yes         53  27.639801                normal  \n",
       "2       no    yes         43  24.767566  hypertension_stage_1  \n",
       "3       no     no         49  24.464602  hypertension_stage_1  \n",
       "4       no    yes         61  46.382189  hypertension_stage_1  \n",
       "...    ...    ...        ...        ...                   ...  \n",
       "40918   no    yes         52  24.801587  hypertension_stage_1  \n",
       "40919   no    yes         42  29.728391  hypertension_stage_2  \n",
       "40920   no    yes         47  38.214990  hypertension_stage_1  \n",
       "40921   no    yes         43  27.440599  hypertension_stage_1  \n",
       "40922   no    yes         48  26.093275  hypertension_stage_1  \n",
       "\n",
       "[40923 rows x 13 columns]"
      ]
     },
     "execution_count": 59,
     "metadata": {},
     "output_type": "execute_result"
    }
   ],
   "source": [
    "df_train"
   ]
  },
  {
   "cell_type": "code",
   "execution_count": 62,
   "id": "30937ceb-8992-442c-af04-2271c2772cf1",
   "metadata": {},
   "outputs": [],
   "source": [
    "%%capture output\n",
    "xgb_params = {\n",
    "    'eta': 0.01, \n",
    "    'max_depth': 6,\n",
    "    'min_child_weight': 1,\n",
    "    \n",
    "    'objective': 'binary:logistic',\n",
    "    'nthread': 8,\n",
    "    # 'eval_metric': 'auc',\n",
    "    'seed': 1,\n",
    "    'verbosity': 1,\n",
    "    }\n",
    "\n",
    "\n",
    "\n",
    "model=train_xgBoost(xgb_params,500,df_train,df_val,y_val)\n",
    "\n"
   ]
  },
  {
   "cell_type": "code",
   "execution_count": 63,
   "id": "3902616a-523a-45a5-9b19-6e152f95da57",
   "metadata": {},
   "outputs": [
    {
     "data": {
      "text/plain": [
       "0.8000551404015701"
      ]
     },
     "execution_count": 63,
     "metadata": {},
     "output_type": "execute_result"
    }
   ],
   "source": [
    "dv = DictVectorizer(sparse=False)\n",
    "val_dicts = df_val.fillna(0).to_dict(orient='records')\n",
    "X_val = dv.fit_transform(val_dicts)\n",
    "\n",
    "dval = xgb.DMatrix(X_val, label=y_val, feature_names=dv.feature_names_)\n",
    "y_pred = model.predict(dval)\n",
    "roc_auc_score(y_val, y_pred)\n",
    "\n",
    "\n"
   ]
  },
  {
   "cell_type": "code",
   "execution_count": 64,
   "id": "898ea2ea-6dae-4fe5-a63b-1a8f4d324dfa",
   "metadata": {},
   "outputs": [],
   "source": [
    "s= output.stdout\n"
   ]
  },
  {
   "cell_type": "code",
   "execution_count": 65,
   "id": "45b28e64-04a3-4e5d-8d8f-14ce3a1f0879",
   "metadata": {},
   "outputs": [],
   "source": [
    "def parse_xgb_output(output):\n",
    "    results = []\n",
    "\n",
    "    for line in output.stdout.strip().split('\\n'):\n",
    "        it_line, train_line, val_line = line.split('\\t')\n",
    "\n",
    "        it = int(it_line.strip('[]'))\n",
    "        train = float(train_line.split(':')[1])\n",
    "        val = float(val_line.split(':')[1])\n",
    "\n",
    "        results.append((it, train, val))\n",
    "    \n",
    "    columns = ['num_iter', 'train_auc', 'val_auc']\n",
    "    df_results = pd.DataFrame(results, columns=columns)\n",
    "    return df_results"
   ]
  },
  {
   "cell_type": "code",
   "execution_count": 66,
   "id": "8e7254c3-9dc9-46e1-a311-9e6ab0b0c13f",
   "metadata": {},
   "outputs": [],
   "source": [
    "df_score = parse_xgb_output(output)"
   ]
  },
  {
   "cell_type": "code",
   "execution_count": 67,
   "id": "7202e345-379f-4a82-883e-44d769223139",
   "metadata": {},
   "outputs": [
    {
     "data": {
      "text/plain": [
       "<matplotlib.legend.Legend at 0x7fc9f193f210>"
      ]
     },
     "execution_count": 67,
     "metadata": {},
     "output_type": "execute_result"
    },
    {
     "data": {
      "image/png": "[encoded data removed]",
      "text/plain": [
       "<Figure size 640x480 with 1 Axes>"
      ]
     },
     "metadata": {},
     "output_type": "display_data"
    }
   ],
   "source": [
    "plt.plot(df_score.num_iter, df_score.train_auc, label='train')\n",
    "plt.plot(df_score.num_iter, df_score.val_auc, label='val')\n",
    "plt.legend()"
   ]
  },
  {
   "cell_type": "code",
   "execution_count": 68,
   "id": "84b4bd7a-bc04-4d54-9e2c-af074aabb6fc",
   "metadata": {},
   "outputs": [
    {
     "data": {
      "text/plain": [
       "<matplotlib.legend.Legend at 0x7fc9deebe590>"
      ]
     },
     "execution_count": 68,
     "metadata": {},
     "output_type": "execute_result"
    },
    {
     "data": {
      "image/png": "[encoded data removed]",
      "text/plain": [
       "<Figure size 640x480 with 1 Axes>"
      ]
     },
     "metadata": {},
     "output_type": "display_data"
    }
   ],
   "source": [
    "plt.plot(df_score.num_iter, df_score.val_auc, label='val')\n",
    "plt.legend()"
   ]
  },
  {
   "cell_type": "markdown",
   "id": "8053ad25-c0b1-4bcf-a3fa-8cef5f32ad59",
   "metadata": {},
   "source": [
    "# Test"
   ]
  },
  {
   "cell_type": "code",
   "execution_count": 80,
   "id": "e52995bf-2108-4035-8c67-f25179379257",
   "metadata": {},
   "outputs": [
    {
     "data": {
      "text/plain": [
       "0.7975150612804647"
      ]
     },
     "execution_count": 80,
     "metadata": {},
     "output_type": "execute_result"
    }
   ],
   "source": [
    "test_dicts = df_test.fillna(0).to_dict(orient='records')\n",
    "X_test = dv.fit_transform(test_dicts)\n",
    "dtest = xgb.DMatrix(X_test, label=y_test, feature_names=dv.feature_names_)\n",
    "y_pred = model.predict(dtest)\n",
    "roc_auc_score(y_test, y_pred)"
   ]
  },
  {
   "cell_type": "code",
   "execution_count": 117,
   "id": "a2c88842-02c1-4e9e-928c-9aece1b35df9",
   "metadata": {},
   "outputs": [
    {
     "data": {
      "text/html": [
       "<div>\n",
       "<style scoped>\n",
       "    .dataframe tbody tr th:only-of-type {\n",
       "        vertical-align: middle;\n",
       "    }\n",
       "\n",
       "    .dataframe tbody tr th {\n",
       "        vertical-align: top;\n",
       "    }\n",
       "\n",
       "    .dataframe thead th {\n",
       "        text-align: right;\n",
       "    }\n",
       "</style>\n",
       "<table border=\"1\" class=\"dataframe\">\n",
       "  <thead>\n",
       "    <tr style=\"text-align: right;\">\n",
       "      <th></th>\n",
       "      <th>threshold</th>\n",
       "      <th>tp</th>\n",
       "      <th>fp</th>\n",
       "      <th>fn</th>\n",
       "      <th>tn</th>\n",
       "    </tr>\n",
       "  </thead>\n",
       "  <tbody>\n",
       "    <tr>\n",
       "      <th>0</th>\n",
       "      <td>0.0</td>\n",
       "      <td>6655</td>\n",
       "      <td>6986</td>\n",
       "      <td>0</td>\n",
       "      <td>0</td>\n",
       "    </tr>\n",
       "    <tr>\n",
       "      <th>10</th>\n",
       "      <td>0.1</td>\n",
       "      <td>6504</td>\n",
       "      <td>6806</td>\n",
       "      <td>151</td>\n",
       "      <td>180</td>\n",
       "    </tr>\n",
       "    <tr>\n",
       "      <th>20</th>\n",
       "      <td>0.2</td>\n",
       "      <td>5722</td>\n",
       "      <td>5955</td>\n",
       "      <td>933</td>\n",
       "      <td>1031</td>\n",
       "    </tr>\n",
       "    <tr>\n",
       "      <th>30</th>\n",
       "      <td>0.3</td>\n",
       "      <td>4661</td>\n",
       "      <td>4793</td>\n",
       "      <td>1994</td>\n",
       "      <td>2193</td>\n",
       "    </tr>\n",
       "    <tr>\n",
       "      <th>40</th>\n",
       "      <td>0.4</td>\n",
       "      <td>3637</td>\n",
       "      <td>3810</td>\n",
       "      <td>3018</td>\n",
       "      <td>3176</td>\n",
       "    </tr>\n",
       "    <tr>\n",
       "      <th>50</th>\n",
       "      <td>0.5</td>\n",
       "      <td>3001</td>\n",
       "      <td>3108</td>\n",
       "      <td>3654</td>\n",
       "      <td>3878</td>\n",
       "    </tr>\n",
       "    <tr>\n",
       "      <th>60</th>\n",
       "      <td>0.6</td>\n",
       "      <td>2448</td>\n",
       "      <td>2521</td>\n",
       "      <td>4207</td>\n",
       "      <td>4465</td>\n",
       "    </tr>\n",
       "    <tr>\n",
       "      <th>70</th>\n",
       "      <td>0.7</td>\n",
       "      <td>2071</td>\n",
       "      <td>2165</td>\n",
       "      <td>4584</td>\n",
       "      <td>4821</td>\n",
       "    </tr>\n",
       "    <tr>\n",
       "      <th>80</th>\n",
       "      <td>0.8</td>\n",
       "      <td>1684</td>\n",
       "      <td>1743</td>\n",
       "      <td>4971</td>\n",
       "      <td>5243</td>\n",
       "    </tr>\n",
       "    <tr>\n",
       "      <th>90</th>\n",
       "      <td>0.9</td>\n",
       "      <td>42</td>\n",
       "      <td>34</td>\n",
       "      <td>6613</td>\n",
       "      <td>6952</td>\n",
       "    </tr>\n",
       "    <tr>\n",
       "      <th>100</th>\n",
       "      <td>1.0</td>\n",
       "      <td>0</td>\n",
       "      <td>0</td>\n",
       "      <td>6655</td>\n",
       "      <td>6986</td>\n",
       "    </tr>\n",
       "  </tbody>\n",
       "</table>\n",
       "</div>"
      ],
      "text/plain": [
       "     threshold    tp    fp    fn    tn\n",
       "0          0.0  6655  6986     0     0\n",
       "10         0.1  6504  6806   151   180\n",
       "20         0.2  5722  5955   933  1031\n",
       "30         0.3  4661  4793  1994  2193\n",
       "40         0.4  3637  3810  3018  3176\n",
       "50         0.5  3001  3108  3654  3878\n",
       "60         0.6  2448  2521  4207  4465\n",
       "70         0.7  2071  2165  4584  4821\n",
       "80         0.8  1684  1743  4971  5243\n",
       "90         0.9    42    34  6613  6952\n",
       "100        1.0     0     0  6655  6986"
      ]
     },
     "execution_count": 117,
     "metadata": {},
     "output_type": "execute_result"
    }
   ],
   "source": [
    "df_confusion_matrix = calculate_confusion_matrix(y_test,y_pred)\n",
    "df_confusion_matrix[::10]\n"
   ]
  },
  {
   "cell_type": "code",
   "execution_count": 121,
   "id": "ab27413a-ba59-461b-9f72-e737c3e9a074",
   "metadata": {},
   "outputs": [
    {
     "data": {
      "image/png": "[encoded data removed]",
      "text/plain": [
       "<Figure size 640x480 with 1 Axes>"
      ]
     },
     "metadata": {},
     "output_type": "display_data"
    }
   ],
   "source": [
    "df_confusion_matrix['p'] = df_confusion_matrix.tp / (df_confusion_matrix.tp + df_confusion_matrix.fp)\n",
    "df_confusion_matrix['r'] = df_confusion_matrix.tp / (df_confusion_matrix.tp + df_confusion_matrix.fn)\n",
    "\n",
    "\n",
    "plt.plot(df_confusion_matrix.threshold, df_confusion_matrix.p, label='precision')\n",
    "plt.plot(df_confusion_matrix.threshold, df_confusion_matrix.r, label='recall')\n",
    "\n",
    "plt.vlines(0.46, 0, 1, color='grey', linestyle='--', alpha=0.5)\n",
    "\n",
    "\n",
    "plt.legend()\n",
    "plt.show()"
   ]
  },
  {
   "cell_type": "code",
   "execution_count": 135,
   "id": "7026643f-9750-45b8-a5be-414e3c3ae2e7",
   "metadata": {},
   "outputs": [
    {
     "data": {
      "text/plain": [
       "<sklearn.metrics._plot.confusion_matrix.ConfusionMatrixDisplay at 0x7fc9b4210bd0>"
      ]
     },
     "execution_count": 135,
     "metadata": {},
     "output_type": "execute_result"
    },
    {
     "data": {
      "image/png": "[encoded data removed]",
      "text/plain": [
       "<Figure size 640x480 with 2 Axes>"
      ]
     },
     "metadata": {},
     "output_type": "display_data"
    }
   ],
   "source": [
    "from sklearn.metrics import confusion_matrix,ConfusionMatrixDisplay\n",
    "\n",
    "cm = confusion_matrix(y_val, y_pred.round())\n",
    "disp = ConfusionMatrixDisplay(confusion_matrix=cm)\n",
    "disp.plot()"
   ]
  },
  {
   "cell_type": "code",
   "execution_count": null,
   "id": "247ce6eb-8af6-4c79-9ce4-3ce37498636e",
   "metadata": {},
   "outputs": [],
   "source": []
  }
 ],
 "metadata": {
  "kernelspec": {
   "display_name": "Python 3 (ipykernel)",
   "language": "python",
   "name": "python3"
  },
  "language_info": {
   "codemirror_mode": {
    "name": "ipython",
    "version": 3
   },
   "file_extension": ".py",
   "mimetype": "text/x-python",
   "name": "python",
   "nbconvert_exporter": "python",
   "pygments_lexer": "ipython3",
   "version": "3.11.6"
  }
 },
 "nbformat": 4,
 "nbformat_minor": 5
}
