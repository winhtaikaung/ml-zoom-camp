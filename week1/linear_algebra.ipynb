{
 "cells": [
  {
   "cell_type": "code",
   "execution_count": 1,
   "id": "91569141-4b3f-466c-97c4-ac35fd341c4c",
   "metadata": {},
   "outputs": [],
   "source": [
    "import numpy as np"
   ]
  },
  {
   "cell_type": "code",
   "execution_count": 5,
   "id": "709fc846-eb97-49bb-a795-05c7ef188a4d",
   "metadata": {},
   "outputs": [
    {
     "data": {
      "text/plain": [
       "array([ 3,  7, 11, 15])"
      ]
     },
     "execution_count": 5,
     "metadata": {},
     "output_type": "execute_result"
    }
   ],
   "source": [
    "u=np.array([2,4,6,8])\n",
    "v=np.array([1,3,5,7])\n",
    "\n",
    "v+u"
   ]
  },
  {
   "cell_type": "code",
   "execution_count": 40,
   "id": "9e29e6e6-bf2d-4d61-8ebc-65c2e70f4336",
   "metadata": {},
   "outputs": [
    {
     "data": {
      "text/plain": [
       "171.0"
      ]
     },
     "execution_count": 40,
     "metadata": {},
     "output_type": "execute_result"
    }
   ],
   "source": [
    "x = np.round(np.linspace(2,10,4),0)\n",
    "y = np.round(np.linspace(1,10,4),0)\n",
    "\n",
    "# np.dot(x,y)\n",
    "\n",
    "x.dot(y)"
   ]
  },
  {
   "cell_type": "code",
   "execution_count": 130,
   "id": "57f43a8d-f1bb-434c-8bed-7b2d828ce3b2",
   "metadata": {},
   "outputs": [
    {
     "data": {
      "text/plain": [
       "array([[14. , 20. , 13. ],\n",
       "       [ 5. ,  6. ,  5. ],\n",
       "       [ 5. ,  8.5,  9. ]])"
      ]
     },
     "execution_count": 130,
     "metadata": {},
     "output_type": "execute_result"
    }
   ],
   "source": [
    "U=np.array([[2,4,5,6],[1,2,1,2],[3,1,2,1]])\n",
    "V=np.array([[1,1,2],[0,0.5,1],[0,2,1],[2,1,0]])\n",
    "\n",
    "# U.dot(V)\n",
    "\n",
    "\n",
    "\n",
    "def matrix_X_matrix(u,v):\n",
    "    assert u.shape[0] == v.shape[1]\n",
    "    num_rows= u.shape[0]\n",
    "    num_cols= v.shape[1]\n",
    "    result = np.zeros((num_rows,num_cols))\n",
    "    for i in range(num_cols):\n",
    "        uc = v[:,i]\n",
    "        uci= u.dot(uc)\n",
    "        result[:,i]=uci\n",
    "    return result\n",
    "U.shape\n",
    "V.shape\n",
    "matrix_X_matrix(U,V)\n",
    "\n",
    "\n"
   ]
  },
  {
   "cell_type": "code",
   "execution_count": 82,
   "id": "efb78ef1-aea0-4e83-a5fe-d109b23b789d",
   "metadata": {},
   "outputs": [
    {
     "data": {
      "text/plain": [
       "array([[14. , 20. , 13. ],\n",
       "       [ 5. ,  6. ,  5. ],\n",
       "       [ 5. ,  8.5,  9. ]])"
      ]
     },
     "execution_count": 82,
     "metadata": {},
     "output_type": "execute_result"
    }
   ],
   "source": [
    "tt=np.array([[2,4,5,6],[1,2,1,2],[3,1,2,1]])\n",
    "tt[0,:]\n",
    "U.dot(V)"
   ]
  },
  {
   "cell_type": "code",
   "execution_count": 86,
   "id": "ac399c12-1eb3-4da8-9345-9b7f27cd7080",
   "metadata": {},
   "outputs": [
    {
     "data": {
      "text/plain": [
       "14.0"
      ]
     },
     "execution_count": 86,
     "metadata": {},
     "output_type": "execute_result"
    }
   ],
   "source": [
    "x=np.linspace(2,6,4)\n",
    "y=np.array([1,0,0,2])\n",
    "\n",
    "x.dot(y)"
   ]
  },
  {
   "cell_type": "code",
   "execution_count": 157,
   "id": "29d9e977-ed7c-4f0a-8f2b-c51989a0f16f",
   "metadata": {},
   "outputs": [],
   "source": [
    "V = np.array([\n",
    "    [1, 1, 2],\n",
    "    [0, 0.5, 1], \n",
    "    [0, 2, 1],\n",
    "    [2, 1, 0],\n",
    "])\n",
    "X=np.array([[2,4,5,6],\n",
    "            [1,2,1,2]])\n"
   ]
  },
  {
   "cell_type": "code",
   "execution_count": 138,
   "id": "2c49c871-db15-473a-81bd-4636441b29e8",
   "metadata": {},
   "outputs": [
    {
     "data": {
      "text/plain": [
       "array([[1., 0., 0., 0., 0., 0., 0., 0., 0., 0.],\n",
       "       [0., 1., 0., 0., 0., 0., 0., 0., 0., 0.],\n",
       "       [0., 0., 1., 0., 0., 0., 0., 0., 0., 0.],\n",
       "       [0., 0., 0., 1., 0., 0., 0., 0., 0., 0.],\n",
       "       [0., 0., 0., 0., 1., 0., 0., 0., 0., 0.],\n",
       "       [0., 0., 0., 0., 0., 1., 0., 0., 0., 0.],\n",
       "       [0., 0., 0., 0., 0., 0., 1., 0., 0., 0.],\n",
       "       [0., 0., 0., 0., 0., 0., 0., 1., 0., 0.],\n",
       "       [0., 0., 0., 0., 0., 0., 0., 0., 1., 0.],\n",
       "       [0., 0., 0., 0., 0., 0., 0., 0., 0., 1.]])"
      ]
     },
     "execution_count": 138,
     "metadata": {},
     "output_type": "execute_result"
    }
   ],
   "source": [
    "np.eye(10)"
   ]
  },
  {
   "cell_type": "code",
   "execution_count": 166,
   "id": "a50b66eb-2bbd-4296-9f34-bf408f7c2d5d",
   "metadata": {},
   "outputs": [
    {
     "data": {
      "text/plain": [
       "array([[1. , 1. , 2. ],\n",
       "       [0. , 0.5, 1. ],\n",
       "       [0. , 2. , 1. ]])"
      ]
     },
     "execution_count": 166,
     "metadata": {},
     "output_type": "execute_result"
    }
   ],
   "source": [
    "Vs=V[[0,1,2]]\n",
    "Vs"
   ]
  },
  {
   "cell_type": "code",
   "execution_count": 170,
   "id": "cde18f39-be86-47e6-81db-5681f4a388bd",
   "metadata": {},
   "outputs": [
    {
     "data": {
      "text/plain": [
       "array([[ 1.        , -2.        ,  0.        ],\n",
       "       [ 0.        , -0.66666667,  0.66666667],\n",
       "       [ 0.        ,  1.33333333, -0.33333333]])"
      ]
     },
     "execution_count": 170,
     "metadata": {},
     "output_type": "execute_result"
    }
   ],
   "source": [
    "Vsi=np.linalg.inv(Vs)\n",
    "Vsi"
   ]
  },
  {
   "cell_type": "code",
   "execution_count": 172,
   "id": "c21c4513-ef2c-4efa-a8a7-ccc3ee9898fa",
   "metadata": {},
   "outputs": [
    {
     "data": {
      "text/plain": [
       "array([[1., 0., 0.],\n",
       "       [0., 1., 0.],\n",
       "       [0., 0., 1.]])"
      ]
     },
     "execution_count": 172,
     "metadata": {},
     "output_type": "execute_result"
    }
   ],
   "source": [
    "Vsi.dot(Vs)"
   ]
  },
  {
   "cell_type": "code",
   "execution_count": null,
   "id": "7fe2a87e-8a6a-4629-8de6-64943c35df4e",
   "metadata": {},
   "outputs": [],
   "source": []
  }
 ],
 "metadata": {
  "kernelspec": {
   "display_name": "Python 3 (ipykernel)",
   "language": "python",
   "name": "python3"
  },
  "language_info": {
   "codemirror_mode": {
    "name": "ipython",
    "version": 3
   },
   "file_extension": ".py",
   "mimetype": "text/x-python",
   "name": "python",
   "nbconvert_exporter": "python",
   "pygments_lexer": "ipython3",
   "version": "3.10.11"
  }
 },
 "nbformat": 4,
 "nbformat_minor": 5
}
